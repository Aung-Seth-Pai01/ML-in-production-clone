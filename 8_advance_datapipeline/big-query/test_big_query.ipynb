{
 "cells": [
  {
   "cell_type": "code",
   "execution_count": 1,
   "metadata": {},
   "outputs": [],
   "source": [
    "import os\n",
    "from google.cloud import bigquery\n",
    "os.environ[\"GOOGLE_APPLICATION_CREDENTIALS\"] = r\"E:\\Practice\\ML-in-production-clone\\service_acc\\service_acc.json\""
   ]
  },
  {
   "cell_type": "code",
   "execution_count": 2,
   "metadata": {},
   "outputs": [
    {
     "data": {
      "text/plain": [
       "<google.cloud.bigquery.client.Client at 0x227d9b7fe20>"
      ]
     },
     "execution_count": 2,
     "metadata": {},
     "output_type": "execute_result"
    }
   ],
   "source": [
    "client = bigquery.Client()\n",
    "client"
   ]
  },
  {
   "attachments": {},
   "cell_type": "markdown",
   "metadata": {},
   "source": [
    "#### Basic Query Process"
   ]
  },
  {
   "cell_type": "code",
   "execution_count": 13,
   "metadata": {},
   "outputs": [
    {
     "name": "stdout",
     "output_type": "stream",
     "text": [
      "0.8949966430664062\n",
      "<class 'google.cloud.bigquery.job.query.QueryJob'>\n",
      "QueryJob<project=sktblog, location=US, id=37d23446-fa01-4001-a74d-15983f938562>\n"
     ]
    }
   ],
   "source": [
    "query = \"\"\"\n",
    "    SELECT name, SUM(number) as total_people\n",
    "    FROM `bigquery-public-data.usa_names.usa_1910_2013`\n",
    "    WHERE state = 'TX'\n",
    "    GROUP BY name, state\n",
    "    ORDER BY total_people DESC\n",
    "    LIMIT 5\n",
    "\"\"\"\n",
    "\n",
    "import time\n",
    "start_time = time.time()\n",
    "query_job = client.query(query)\n",
    "print(time.time() - start_time)\n",
    "print(type(query_job))\n",
    "print(query_job)"
   ]
  },
  {
   "cell_type": "code",
   "execution_count": 15,
   "metadata": {},
   "outputs": [
    {
     "name": "stdout",
     "output_type": "stream",
     "text": [
      "Top 5 USA Names:\n",
      "\n",
      "name=James, count=272793\n",
      "name=John, count=235139\n",
      "name=Michael, count=225320\n",
      "name=Robert, count=220399\n",
      "name=David, count=219028\n"
     ]
    }
   ],
   "source": [
    "print(\"Top 5 USA Names:\\n\")\n",
    "for row in query_job:\n",
    "    print(\"name={}, count={}\".format(row[0], row[\"total_people\"]))"
   ]
  },
  {
   "cell_type": "code",
   "execution_count": null,
   "metadata": {},
   "outputs": [],
   "source": [
    "!pip install db-dtypes"
   ]
  },
  {
   "cell_type": "code",
   "execution_count": 16,
   "metadata": {},
   "outputs": [
    {
     "data": {
      "text/html": [
       "<div>\n",
       "<style scoped>\n",
       "    .dataframe tbody tr th:only-of-type {\n",
       "        vertical-align: middle;\n",
       "    }\n",
       "\n",
       "    .dataframe tbody tr th {\n",
       "        vertical-align: top;\n",
       "    }\n",
       "\n",
       "    .dataframe thead th {\n",
       "        text-align: right;\n",
       "    }\n",
       "</style>\n",
       "<table border=\"1\" class=\"dataframe\">\n",
       "  <thead>\n",
       "    <tr style=\"text-align: right;\">\n",
       "      <th></th>\n",
       "      <th>name</th>\n",
       "      <th>total_people</th>\n",
       "    </tr>\n",
       "  </thead>\n",
       "  <tbody>\n",
       "    <tr>\n",
       "      <th>0</th>\n",
       "      <td>James</td>\n",
       "      <td>272793</td>\n",
       "    </tr>\n",
       "    <tr>\n",
       "      <th>1</th>\n",
       "      <td>John</td>\n",
       "      <td>235139</td>\n",
       "    </tr>\n",
       "    <tr>\n",
       "      <th>2</th>\n",
       "      <td>Michael</td>\n",
       "      <td>225320</td>\n",
       "    </tr>\n",
       "    <tr>\n",
       "      <th>3</th>\n",
       "      <td>Robert</td>\n",
       "      <td>220399</td>\n",
       "    </tr>\n",
       "    <tr>\n",
       "      <th>4</th>\n",
       "      <td>David</td>\n",
       "      <td>219028</td>\n",
       "    </tr>\n",
       "  </tbody>\n",
       "</table>\n",
       "</div>"
      ],
      "text/plain": [
       "      name  total_people\n",
       "0    James        272793\n",
       "1     John        235139\n",
       "2  Michael        225320\n",
       "3   Robert        220399\n",
       "4    David        219028"
      ]
     },
     "execution_count": 16,
     "metadata": {},
     "output_type": "execute_result"
    }
   ],
   "source": [
    "df = query_job.to_dataframe()\n",
    "df.head()"
   ]
  },
  {
   "attachments": {},
   "cell_type": "markdown",
   "metadata": {},
   "source": [
    "#### Running parameterized queries\n",
    "https://cloud.google.com/bigquery/docs/parameterized-queries"
   ]
  },
  {
   "cell_type": "code",
   "execution_count": 27,
   "metadata": {},
   "outputs": [
    {
     "name": "stdout",
     "output_type": "stream",
     "text": [
      "James: \t272793\n",
      "John: \t235139\n",
      "Michael: \t225320\n",
      "Robert: \t220399\n",
      "David: \t219028\n"
     ]
    }
   ],
   "source": [
    "sql = \"\"\"\n",
    "    SELECT name\n",
    "    FROM `bigquery-public-data.usa_names.usa_1910_current`\n",
    "    WHERE state = @state\n",
    "    LIMIT @limit\n",
    "\"\"\"\n",
    "\n",
    "query_config = bigquery.QueryJobConfig(\n",
    "    query_parameters=[\n",
    "        bigquery.ScalarQueryParameter('state', 'STRING', 'TX'),\n",
    "        bigquery.ScalarQueryParameter('limit', 'INTEGER', 100)\n",
    "    ]\n",
    ")\n",
    "\n",
    "query_job = client.query(query, job_config=query_config)  # Make an API request.\n",
    "\n",
    "for row in query_job:\n",
    "    print(\"{}: \\t{}\".format(row.name, row.total_people))"
   ]
  },
  {
   "cell_type": "code",
   "execution_count": 28,
   "metadata": {},
   "outputs": [
    {
     "name": "stdout",
     "output_type": "stream",
     "text": [
      "James: \t272793\n",
      "John: \t235139\n",
      "Michael: \t225320\n",
      "Robert: \t220399\n",
      "David: \t219028\n"
     ]
    }
   ],
   "source": [
    "# -----------  To use positional parameters ----------- #\n",
    "sql = \"\"\"\n",
    "    SELECT name\n",
    "    FROM `bigquery-public-data.usa_names.usa_1910_current`\n",
    "    WHERE state = ?\n",
    "    LIMIT ?\n",
    "\"\"\"\n",
    "\n",
    "query_config = bigquery.QueryJobConfig(\n",
    "    query_parameters=[\n",
    "        bigquery.ScalarQueryParameter(None, 'STRING', 'TX'),\n",
    "        bigquery.ScalarQueryParameter(None, 'INTEGER', 100)\n",
    "    ]\n",
    ")\n",
    "\n",
    "query_job = client.query(query, job_config=query_config)  # Make an API request.\n",
    "\n",
    "for row in query_job:\n",
    "    print(\"{}: \\t{}\".format(row.name, row.total_people))"
   ]
  },
  {
   "cell_type": "code",
   "execution_count": 29,
   "metadata": {},
   "outputs": [
    {
     "name": "stdout",
     "output_type": "stream",
     "text": [
      "James: \t238155\n",
      "Robert: \t235458\n",
      "John: \t217668\n",
      "Michael: \t204942\n",
      "David: \t187928\n",
      "William: \t169083\n",
      "Richard: \t134337\n",
      "Thomas: \t114726\n",
      "Charles: \t103021\n",
      "Daniel: \t97706\n"
     ]
    }
   ],
   "source": [
    "# ----------- Using arrays in parameterized querie ----------- #\n",
    "query = \"\"\"\n",
    "    SELECT name, sum(number) as count\n",
    "    FROM `bigquery-public-data.usa_names.usa_1910_2013`\n",
    "    WHERE gender = @gender\n",
    "    AND state IN UNNEST(@states)\n",
    "    GROUP BY name\n",
    "    ORDER BY count DESC\n",
    "    LIMIT 10;\n",
    "\"\"\"\n",
    "job_config = bigquery.QueryJobConfig(\n",
    "    query_parameters=[\n",
    "        bigquery.ScalarQueryParameter(\"gender\", \"STRING\", \"M\"),\n",
    "        bigquery.ArrayQueryParameter(\"states\", \"STRING\", [\"WA\", \"WI\", \"WV\", \"WY\"]),\n",
    "    ]\n",
    ")\n",
    "query_job = client.query(query, job_config=job_config)  # Make an API request.\n",
    "\n",
    "for row in query_job:\n",
    "    print(\"{}: \\t{}\".format(row.name, row.count))"
   ]
  },
  {
   "attachments": {},
   "cell_type": "markdown",
   "metadata": {},
   "source": [
    "#### Load Dataframe to BigQuery Table"
   ]
  },
  {
   "cell_type": "code",
   "execution_count": null,
   "metadata": {},
   "outputs": [],
   "source": [
    "!pip install pyarrow"
   ]
  },
  {
   "cell_type": "code",
   "execution_count": null,
   "metadata": {},
   "outputs": [],
   "source": [
    "import pandas\n",
    "\n",
    "df = pandas.DataFrame(\n",
    "    {\n",
    "        'my_string': ['a', 'b', 'c'],\n",
    "        'my_int64': [1, 2, 3],\n",
    "        'my_float64': [4.0, 5.0, 6.0],\n",
    "        'my_timestamp': [\n",
    "            pandas.Timestamp(\"1998-09-04T16:03:14\"),\n",
    "            pandas.Timestamp(\"2010-09-13T12:03:45\"),\n",
    "            pandas.Timestamp(\"2015-10-02T16:00:00\")\n",
    "        ],\n",
    "    }\n",
    ")"
   ]
  },
  {
   "cell_type": "code",
   "execution_count": null,
   "metadata": {},
   "outputs": [],
   "source": [
    "table_id = 'sktblog.ths_test_big_dataset.ths_test_big_tb'\n",
    "# Since string columns use the \"object\" dtype, pass in a (partial) schema\n",
    "# to ensure the correct BigQuery data type.\n",
    "job_config = bigquery.LoadJobConfig(schema=[\n",
    "    bigquery.SchemaField(\"my_string\", \"STRING\"),\n",
    "])\n",
    "\n",
    "job = client.load_table_from_dataframe(\n",
    "    df, table_id, job_config=job_config\n",
    ")"
   ]
  }
 ],
 "metadata": {
  "kernelspec": {
   "display_name": "ml",
   "language": "python",
   "name": "python3"
  },
  "language_info": {
   "codemirror_mode": {
    "name": "ipython",
    "version": 3
   },
   "file_extension": ".py",
   "mimetype": "text/x-python",
   "name": "python",
   "nbconvert_exporter": "python",
   "pygments_lexer": "ipython3",
   "version": "3.10.8"
  },
  "orig_nbformat": 4
 },
 "nbformat": 4,
 "nbformat_minor": 2
}
