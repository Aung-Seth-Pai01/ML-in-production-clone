{
 "cells": [
  {
   "cell_type": "code",
   "execution_count": 11,
   "metadata": {},
   "outputs": [],
   "source": [
    "import tensorflow as tf\n",
    "from tensorflow.keras.layers import Dense,GlobalAveragePooling2D,Dropout,Flatten,Conv2D,Input,MaxPooling2D\n",
    "from tensorflow.keras.optimizers import Adam\n",
    "from tensorflow.keras.models import Sequential\n",
    "from tensorflow.keras.preprocessing.image import ImageDataGenerator"
   ]
  },
  {
   "cell_type": "markdown",
   "metadata": {},
   "source": [
    "#### Data generator"
   ]
  },
  {
   "cell_type": "code",
   "execution_count": 12,
   "metadata": {},
   "outputs": [],
   "source": [
    "root_path = r\"E:\\deep_learning\\skin_cancer\\dataset\\dataset\"\n",
    "img_width,img_height = 128,128\n",
    "model_input = (img_width,img_height,3)\n",
    "img_size = (img_width,img_height)\n",
    "batch_size = 32"
   ]
  },
  {
   "cell_type": "code",
   "execution_count": 13,
   "metadata": {},
   "outputs": [
    {
     "name": "stdout",
     "output_type": "stream",
     "text": [
      "Found 2967 images belonging to 3 classes.\n",
      "Found 330 images belonging to 3 classes.\n"
     ]
    }
   ],
   "source": [
    "\n",
    "\n",
    "_datagen = ImageDataGenerator(\n",
    "        rescale=1/255,\n",
    "\t\twidth_shift_range=0.1,\n",
    "\t\theight_shift_range=0.1,\n",
    "\t\thorizontal_flip=True)\n",
    "\n",
    "train_gen = _datagen.flow_from_directory(\n",
    "    root_path+\"/train\",\n",
    "    target_size = img_size,\n",
    "    batch_size=batch_size,\n",
    "    class_mode = \"categorical\"\n",
    ")\n",
    "\n",
    "\n",
    "test_gen = _datagen.flow_from_directory(\n",
    "    root_path+\"/test\",\n",
    "    target_size = img_size,\n",
    "    batch_size=batch_size,\n",
    "    class_mode = \"categorical\"\n",
    ")"
   ]
  },
  {
   "cell_type": "markdown",
   "metadata": {},
   "source": [
    "#### Create model"
   ]
  },
  {
   "cell_type": "code",
   "execution_count": null,
   "metadata": {},
   "outputs": [],
   "source": []
  },
  {
   "cell_type": "code",
   "execution_count": 14,
   "metadata": {},
   "outputs": [],
   "source": [
    "from pyexpat import model\n",
    "from statistics import mode\n",
    "\n",
    "\n",
    "def create_model(input_size,kernel_size,num_filter,num_conv_layer,num_output):\n",
    "    model = Sequential(Conv2D(num_filter,kernel_size = kernel_size,padding='same',activation = 'relu',input_shape =input_size ))\n",
    "    for i in range(num_conv_layer):\n",
    "        model.add(Conv2D(num_filter,kernel_size = kernel_size,padding='same',activation = 'relu'))\n",
    "        model.add(Conv2D(num_filter,kernel_size = kernel_size,padding='same',activation = 'relu'))\n",
    "\n",
    "        model.add(MaxPooling2D(2, 2))\n",
    "        num_filter= num_filter+num_filter\n",
    "    model.add(Flatten())\n",
    "    model.add(Dense(units = num_output,activation = \"softmax\"))\n",
    "    return model"
   ]
  },
  {
   "cell_type": "markdown",
   "metadata": {},
   "source": [
    "#### Parameter and train"
   ]
  },
  {
   "cell_type": "code",
   "execution_count": 15,
   "metadata": {},
   "outputs": [],
   "source": [
    "conv_layers = 2\n",
    "num_filter = 32\n",
    "kernel_size = (3,3)\n",
    "num_train = len(train_gen.filenames)\n",
    "num_test = len(test_gen.filenames)\n",
    "steps_per_epoch=int(num_train / batch_size)\n",
    "\n",
    "epochs =3\n"
   ]
  },
  {
   "cell_type": "code",
   "execution_count": 16,
   "metadata": {},
   "outputs": [
    {
     "name": "stdout",
     "output_type": "stream",
     "text": [
      "Model: \"sequential_1\"\n",
      "_________________________________________________________________\n",
      " Layer (type)                Output Shape              Param #   \n",
      "=================================================================\n",
      " conv2d_5 (Conv2D)           (None, 128, 128, 32)      896       \n",
      "                                                                 \n",
      " conv2d_6 (Conv2D)           (None, 128, 128, 32)      9248      \n",
      "                                                                 \n",
      " conv2d_7 (Conv2D)           (None, 128, 128, 32)      9248      \n",
      "                                                                 \n",
      " max_pooling2d_2 (MaxPooling  (None, 64, 64, 32)       0         \n",
      " 2D)                                                             \n",
      "                                                                 \n",
      " conv2d_8 (Conv2D)           (None, 64, 64, 64)        18496     \n",
      "                                                                 \n",
      " conv2d_9 (Conv2D)           (None, 64, 64, 64)        36928     \n",
      "                                                                 \n",
      " max_pooling2d_3 (MaxPooling  (None, 32, 32, 64)       0         \n",
      " 2D)                                                             \n",
      "                                                                 \n",
      " flatten_1 (Flatten)         (None, 65536)             0         \n",
      "                                                                 \n",
      " dense_1 (Dense)             (None, 3)                 196611    \n",
      "                                                                 \n",
      "=================================================================\n",
      "Total params: 271,427\n",
      "Trainable params: 271,427\n",
      "Non-trainable params: 0\n",
      "_________________________________________________________________\n"
     ]
    }
   ],
   "source": [
    "model = create_model(input_size= model_input,\n",
    "                kernel_size = kernel_size,\n",
    "                num_filter=num_filter,\n",
    "                num_conv_layer = conv_layers,\n",
    "                num_output=3)\n",
    "model.summary()"
   ]
  },
  {
   "cell_type": "code",
   "execution_count": 17,
   "metadata": {},
   "outputs": [
    {
     "name": "stderr",
     "output_type": "stream",
     "text": [
      "c:\\Users\\tharh\\anaconda3\\envs\\tharhtet\\lib\\site-packages\\keras\\optimizers\\optimizer_v2\\adam.py:110: UserWarning: The `lr` argument is deprecated, use `learning_rate` instead.\n",
      "  super(Adam, self).__init__(name, **kwargs)\n"
     ]
    }
   ],
   "source": [
    "\n",
    "\n",
    "model.compile(loss='categorical_crossentropy',\n",
    "              optimizer=Adam(lr=0.001),\n",
    "              metrics=['accuracy'])"
   ]
  },
  {
   "cell_type": "code",
   "execution_count": 18,
   "metadata": {},
   "outputs": [
    {
     "name": "stderr",
     "output_type": "stream",
     "text": [
      "C:\\Users\\tharh\\AppData\\Local\\Temp\\ipykernel_20932\\1490670082.py:1: UserWarning: `Model.fit_generator` is deprecated and will be removed in a future version. Please use `Model.fit`, which supports generators.\n",
      "  history = model.fit_generator(train_gen, steps_per_epoch=steps_per_epoch, epochs=epochs,\n"
     ]
    },
    {
     "name": "stdout",
     "output_type": "stream",
     "text": [
      "Epoch 1/3\n",
      "92/92 [==============================] - 16s 171ms/step - loss: 0.7839 - accuracy: 0.6198 - val_loss: 0.7795 - val_accuracy: 0.6031\n",
      "Epoch 2/3\n",
      "92/92 [==============================] - 16s 174ms/step - loss: 0.6564 - accuracy: 0.7097 - val_loss: 0.6236 - val_accuracy: 0.6812\n",
      "Epoch 3/3\n",
      "92/92 [==============================] - 17s 181ms/step - loss: 0.5990 - accuracy: 0.7257 - val_loss: 0.5882 - val_accuracy: 0.7312\n"
     ]
    }
   ],
   "source": [
    "history = model.fit_generator(train_gen, steps_per_epoch=steps_per_epoch, epochs=epochs,\n",
    "                            validation_data=test_gen,\n",
    "                            validation_steps=int(num_test / batch_size))"
   ]
  },
  {
   "cell_type": "code",
   "execution_count": 19,
   "metadata": {},
   "outputs": [
    {
     "data": {
      "image/png": "[encoded data removed]",
      "text/plain": [
       "<Figure size 576x576 with 2 Axes>"
      ]
     },
     "metadata": {
      "needs_background": "light"
     },
     "output_type": "display_data"
    }
   ],
   "source": [
    "import matplotlib.pyplot as plt\n",
    "acc = history.history['accuracy']\n",
    "val_acc = history.history['val_accuracy']\n",
    "\n",
    "loss = history.history['loss']\n",
    "val_loss = history.history['val_loss']\n",
    "\n",
    "plt.figure(figsize=(8, 8))\n",
    "plt.subplot(2, 1, 1)\n",
    "plt.plot(acc, label='Training Accuracy')\n",
    "plt.plot(val_acc, label='Validation Accuracy')\n",
    "plt.legend(loc='lower right')\n",
    "plt.ylabel('Accuracy')\n",
    "plt.ylim([min(plt.ylim()),1])\n",
    "plt.title('Training and Validation Accuracy')\n",
    "\n",
    "plt.subplot(2, 1, 2)\n",
    "plt.plot(loss, label='Training Loss')\n",
    "plt.plot(val_loss, label='Validation Loss')\n",
    "plt.legend(loc='upper right')\n",
    "plt.ylabel('Cross Entropy')\n",
    "plt.ylim([0,1.0])\n",
    "plt.title('Training and Validation Loss')\n",
    "plt.xlabel('epoch')\n",
    "plt.show()"
   ]
  },
  {
   "cell_type": "code",
   "execution_count": 20,
   "metadata": {},
   "outputs": [
    {
     "name": "stdout",
     "output_type": "stream",
     "text": [
      "Evaluate on test data\n",
      "11/11 [==============================] - 2s 145ms/step - loss: 0.5859 - accuracy: 0.7121\n",
      "test loss, test acc: [0.5858600735664368, 0.7121211886405945]\n"
     ]
    }
   ],
   "source": [
    "print(\"Evaluate on test data\")\n",
    "results = model.evaluate(test_gen , batch_size=128)\n",
    "print(\"test loss, test acc:\", results)"
   ]
  },
  {
   "cell_type": "code",
   "execution_count": null,
   "metadata": {},
   "outputs": [],
   "source": []
  },
  {
   "cell_type": "code",
   "execution_count": null,
   "metadata": {},
   "outputs": [],
   "source": []
  }
 ],
 "metadata": {
  "kernelspec": {
   "display_name": "Python 3.9.12 ('tharhtet')",
   "language": "python",
   "name": "python3"
  },
  "language_info": {
   "codemirror_mode": {
    "name": "ipython",
    "version": 3
   },
   "file_extension": ".py",
   "mimetype": "text/x-python",
   "name": "python",
   "nbconvert_exporter": "python",
   "pygments_lexer": "ipython3",
   "version": "3.9.12"
  },
  "orig_nbformat": 4,
  "vscode": {
   "interpreter": {
    "hash": "b46ff7e5b8b7911cfa9955e23e477c53e63d207f4b9ab3253a6a5ac7336ecbe5"
   }
  }
 },
 "nbformat": 4,
 "nbformat_minor": 2
}
