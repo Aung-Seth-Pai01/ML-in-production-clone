{
 "cells": [
  {
   "cell_type": "markdown",
   "metadata": {},
   "source": [
    "## MLflow's Model Registry"
   ]
  },
  {
   "cell_type": "code",
   "execution_count": 5,
   "metadata": {},
   "outputs": [],
   "source": [
    "from mlflow.tracking import MlflowClient\n",
    "\n",
    "MLFLOW_TRACKING_URI = \"sqlite:///mlflow.db\""
   ]
  },
  {
   "cell_type": "code",
   "execution_count": null,
   "metadata": {},
   "outputs": [],
   "source": []
  },
  {
   "cell_type": "markdown",
   "metadata": {},
   "source": [
    "#### Interacting with the MLflow tracking server\n",
    "The MlflowClient object allows us to interact with...\n",
    "\n",
    "- an MLflow Tracking Server that creates and manages experiments and runs.\n",
    "- an MLflow Registry Server that creates and manages registered models and model versions.\n",
    "\n",
    "To instantiate it we need to pass a tracking URI and/or a registry URI"
   ]
  },
  {
   "cell_type": "code",
   "execution_count": 7,
   "metadata": {},
   "outputs": [
    {
     "data": {
      "text/plain": [
       "[<Experiment: artifact_location='./mlruns/0', experiment_id='0', lifecycle_stage='active', name='Default', tags={}>,\n",
       " <Experiment: artifact_location='./mlruns/1', experiment_id='1', lifecycle_stage='active', name='ths-skin-cancer-experiment', tags={}>,\n",
       " <Experiment: artifact_location='./mlruns/2', experiment_id='2', lifecycle_stage='active', name='my-cool-exp', tags={}>]"
      ]
     },
     "execution_count": 7,
     "metadata": {},
     "output_type": "execute_result"
    }
   ],
   "source": [
    "client = MlflowClient(tracking_uri=MLFLOW_TRACKING_URI)\n",
    "client.list_experiments()"
   ]
  },
  {
   "cell_type": "code",
   "execution_count": 9,
   "metadata": {},
   "outputs": [],
   "source": [
    "exp_name = \"my-cool-exp\"\n",
    "#client.create_experiment(exp_name)"
   ]
  },
  {
   "cell_type": "code",
   "execution_count": 10,
   "metadata": {},
   "outputs": [],
   "source": [
    "from mlflow.entities import ViewType\n",
    "\n",
    "runs = client.search_runs(\n",
    "    experiment_ids='1',\n",
    "    filter_string=\"metrics.val_acc > .25\",\n",
    "    run_view_type=ViewType.ACTIVE_ONLY,\n",
    "    max_results = 3,\n",
    "order_by = ['metrics.val_acc ASC']\n",
    ")\n"
   ]
  },
  {
   "cell_type": "code",
   "execution_count": 11,
   "metadata": {},
   "outputs": [
    {
     "name": "stdout",
     "output_type": "stream",
     "text": [
      "run id: a60df699fffe43b7b4d0f2b417eb7ed5, rmse: 0.2667\n",
      "run id: 6bbb818e9e5246d7a2ac7a016cd7e690, rmse: 0.3303\n",
      "run id: 04043070e0d740a4b4f4889b6147ff5a, rmse: 0.3303\n"
     ]
    }
   ],
   "source": [
    "for run in runs:\n",
    "    print(f\"run id: {run.info.run_id}, rmse: {run.data.metrics['val_acc']:.4f}\")"
   ]
  },
  {
   "cell_type": "markdown",
   "metadata": {},
   "source": [
    "#### Interacting with model registry\n",
    "creat new verion of \"skin-cancer-classifier\""
   ]
  },
  {
   "cell_type": "code",
   "execution_count": 12,
   "metadata": {},
   "outputs": [
    {
     "name": "stderr",
     "output_type": "stream",
     "text": [
      "Registered model 'skin-cancer-classifier' already exists. Creating a new version of this model...\n",
      "2022/09/05 13:11:00 INFO mlflow.tracking._model_registry.client: Waiting up to 300 seconds for model version to finish creation.                     Model name: skin-cancer-classifier, version 7\n",
      "Created version '7' of model 'skin-cancer-classifier'.\n"
     ]
    },
    {
     "data": {
      "text/plain": [
       "<ModelVersion: creation_timestamp=1662360060485, current_stage='None', description=None, last_updated_timestamp=1662360060485, name='skin-cancer-classifier', run_id='04043070e0d740a4b4f4889b6147ff5a', run_link=None, source='./mlruns/1/04043070e0d740a4b4f4889b6147ff5a/artifacts/model', status='READY', status_message=None, tags={}, user_id=None, version=7>"
      ]
     },
     "execution_count": 12,
     "metadata": {},
     "output_type": "execute_result"
    }
   ],
   "source": [
    "import mlflow\n",
    "mlflow.set_tracking_uri(MLFLOW_TRACKING_URI)\n",
    "\n",
    "\n",
    "run_id = \"04043070e0d740a4b4f4889b6147ff5a\"\n",
    "model_name = \"skin-cancer-classifier\"\n",
    "model_uri = f\"runs:/{run_id}/model\"\n",
    "mlflow.register_model(model_uri=model_uri,name=model_name)\n"
   ]
  },
  {
   "cell_type": "markdown",
   "metadata": {},
   "source": []
  },
  {
   "cell_type": "code",
   "execution_count": 13,
   "metadata": {},
   "outputs": [
    {
     "name": "stdout",
     "output_type": "stream",
     "text": [
      "version: 2, stage: Archived\n",
      "version: 3, stage: Production\n",
      "version: 6, stage: Staging\n",
      "version: 7, stage: None\n"
     ]
    }
   ],
   "source": [
    "## check model version\n",
    "latest_verions = client.get_latest_versions(name=model_name)\n",
    "\n",
    "\n",
    "for version in latest_verions:\n",
    "    print(f\"version: {version.version}, stage: {version.current_stage}\")"
   ]
  },
  {
   "cell_type": "code",
   "execution_count": 14,
   "metadata": {},
   "outputs": [
    {
     "data": {
      "text/plain": [
       "<ModelVersion: creation_timestamp=1662355041620, current_stage='Staging', description='The model version 6 was transitioned to Staging on 2022-09-05', last_updated_timestamp=1662360063768, name='skin-cancer-classifier', run_id='04043070e0d740a4b4f4889b6147ff5a', run_link=None, source='./mlruns/1/04043070e0d740a4b4f4889b6147ff5a/artifacts/model', status='READY', status_message=None, tags={}, user_id=None, version=6>"
      ]
     },
     "execution_count": 14,
     "metadata": {},
     "output_type": "execute_result"
    }
   ],
   "source": [
    "## set model to Staging\n",
    "model_version = 6\n",
    "new_stage = \"Staging\"\n",
    "client.transition_model_version_stage(\n",
    "    name = model_name,\n",
    "    version = model_version,\n",
    "    stage = new_stage,\n",
    "    archive_existing_versions=False\n",
    ")"
   ]
  },
  {
   "cell_type": "code",
   "execution_count": 15,
   "metadata": {},
   "outputs": [
    {
     "data": {
      "text/plain": [
       "<ModelVersion: creation_timestamp=1662355041620, current_stage='Staging', description='The model version 6 was transitioned to Staging on 2022-09-05', last_updated_timestamp=1662360064557, name='skin-cancer-classifier', run_id='04043070e0d740a4b4f4889b6147ff5a', run_link=None, source='./mlruns/1/04043070e0d740a4b4f4889b6147ff5a/artifacts/model', status='READY', status_message=None, tags={}, user_id=None, version=6>"
      ]
     },
     "execution_count": 15,
     "metadata": {},
     "output_type": "execute_result"
    }
   ],
   "source": [
    "from datetime import datetime\n",
    "date = datetime.today().date()\n",
    "client.update_model_version(\n",
    "    name=model_name,\n",
    "    version=model_version,\n",
    "    description=f\"The model version {model_version} was transitioned to {new_stage} on {date}\"\n",
    ")"
   ]
  },
  {
   "cell_type": "code",
   "execution_count": null,
   "metadata": {},
   "outputs": [],
   "source": []
  },
  {
   "cell_type": "markdown",
   "metadata": {},
   "source": [
    "### Compare models base on stages"
   ]
  },
  {
   "cell_type": "code",
   "execution_count": 22,
   "metadata": {},
   "outputs": [
    {
     "name": "stdout",
     "output_type": "stream",
     "text": [
      "Found 330 images belonging to 3 classes.\n"
     ]
    }
   ],
   "source": [
    "from tensorflow.keras.preprocessing.image import ImageDataGenerator\n",
    "\n",
    "root_path = r\"E:\\deep_learning\\skin_cancer\\dataset\\dataset\"\n",
    "img_width,img_height = 128,128\n",
    "model_input = (img_width,img_height,3)\n",
    "img_size = (img_width,img_height)\n",
    "batch_size = 32\n",
    "\n",
    "_datagen = ImageDataGenerator(\n",
    "        rescale=1/255,\n",
    "\t\twidth_shift_range=0.1,\n",
    "\t\theight_shift_range=0.1,\n",
    "\t\thorizontal_flip=True)\n",
    "\n",
    "test_gen = _datagen.flow_from_directory(\n",
    "    root_path+\"/test\",\n",
    "    target_size = img_size,\n",
    "    batch_size=batch_size,\n",
    "    class_mode = \"categorical\"\n",
    ")"
   ]
  },
  {
   "cell_type": "code",
   "execution_count": 23,
   "metadata": {},
   "outputs": [],
   "source": [
    "from datetime import datetime\n",
    "def test_model(name, stage, test_gen,):\n",
    "    model_path = f\"models:/{name}/{stage}\"\n",
    "    tf_model = mlflow.keras.load_model(model_path)\n",
    "\n",
    "    results = tf_model.evaluate(test_gen , batch_size=batch_size)\n",
    "\n",
    "    return {\"val_loss\": results[0],\"val_acc\" : results[1]}"
   ]
  },
  {
   "cell_type": "code",
   "execution_count": 24,
   "metadata": {},
   "outputs": [
    {
     "name": "stdout",
     "output_type": "stream",
     "text": [
      "11/11 [==============================] - 10s 385ms/step - loss: 1.0986 - accuracy: 0.3333\n",
      "CPU times: total: 7.31 s\n",
      "Wall time: 13.8 s\n"
     ]
    },
    {
     "data": {
      "text/plain": [
       "{'val_loss': 1.0985932350158691, 'val_acc': 0.3333333432674408}"
      ]
     },
     "execution_count": 24,
     "metadata": {},
     "output_type": "execute_result"
    }
   ],
   "source": [
    "%time test_model(name=model_name, stage=\"Production\",test_gen=test_gen)"
   ]
  },
  {
   "cell_type": "code",
   "execution_count": 27,
   "metadata": {},
   "outputs": [
    {
     "name": "stdout",
     "output_type": "stream",
     "text": [
      "11/11 [==============================] - 2s 127ms/step - loss: 1.0994 - accuracy: 0.2667\n",
      "CPU times: total: 3.16 s\n",
      "Wall time: 3.03 s\n"
     ]
    },
    {
     "data": {
      "text/plain": [
       "{'val_loss': 1.0993913412094116, 'val_acc': 0.2666666805744171}"
      ]
     },
     "execution_count": 27,
     "metadata": {},
     "output_type": "execute_result"
    }
   ],
   "source": [
    "%time test_model(name=model_name, stage=\"Staging\",test_gen=test_gen)"
   ]
  },
  {
   "cell_type": "code",
   "execution_count": null,
   "metadata": {},
   "outputs": [],
   "source": []
  }
 ],
 "metadata": {
  "kernelspec": {
   "display_name": "Python 3.9.12 ('tharhtet')",
   "language": "python",
   "name": "python3"
  },
  "language_info": {
   "codemirror_mode": {
    "name": "ipython",
    "version": 3
   },
   "file_extension": ".py",
   "mimetype": "text/x-python",
   "name": "python",
   "nbconvert_exporter": "python",
   "pygments_lexer": "ipython3",
   "version": "3.9.12"
  },
  "orig_nbformat": 4,
  "vscode": {
   "interpreter": {
    "hash": "b46ff7e5b8b7911cfa9955e23e477c53e63d207f4b9ab3253a6a5ac7336ecbe5"
   }
  }
 },
 "nbformat": 4,
 "nbformat_minor": 2
}
