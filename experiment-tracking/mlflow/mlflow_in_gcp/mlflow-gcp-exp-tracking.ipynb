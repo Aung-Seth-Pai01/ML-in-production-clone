{
 "cells": [
  {
   "cell_type": "code",
   "execution_count": 13,
   "metadata": {},
   "outputs": [],
   "source": [
    "import tensorflow as tf\n",
    "from tensorflow.keras.layers import Dense,GlobalAveragePooling2D,Dropout,Flatten,Conv2D,Input,MaxPooling2D\n",
    "from tensorflow.keras.optimizers import Adam\n",
    "from tensorflow.keras.models import Sequential\n",
    "from tensorflow.keras.preprocessing.image import ImageDataGenerator"
   ]
  },
  {
   "cell_type": "markdown",
   "metadata": {},
   "source": [
    "#### Data generator"
   ]
  },
  {
   "cell_type": "code",
   "execution_count": 14,
   "metadata": {},
   "outputs": [],
   "source": [
    "root_path = r\"E:\\deep_learning\\skin_cancer\\dataset\\dataset\"\n",
    "img_width,img_height = 128,128\n",
    "model_input = (img_width,img_height,3)\n",
    "img_size = (img_width,img_height)\n",
    "batch_size = 32"
   ]
  },
  {
   "cell_type": "code",
   "execution_count": 15,
   "metadata": {},
   "outputs": [
    {
     "name": "stdout",
     "output_type": "stream",
     "text": [
      "Found 2967 images belonging to 3 classes.\n",
      "Found 330 images belonging to 3 classes.\n"
     ]
    }
   ],
   "source": [
    "\n",
    "\n",
    "_datagen = ImageDataGenerator(\n",
    "        rescale=1/255,\n",
    "\t\twidth_shift_range=0.1,\n",
    "\t\theight_shift_range=0.1,\n",
    "\t\thorizontal_flip=True)\n",
    "\n",
    "train_gen = _datagen.flow_from_directory(\n",
    "    root_path+\"/train\",\n",
    "    target_size = img_size,\n",
    "    batch_size=batch_size,\n",
    "    class_mode = \"categorical\"\n",
    ")\n",
    "\n",
    "\n",
    "test_gen = _datagen.flow_from_directory(\n",
    "    root_path+\"/test\",\n",
    "    target_size = img_size,\n",
    "    batch_size=batch_size,\n",
    "    class_mode = \"categorical\"\n",
    ")"
   ]
  },
  {
   "cell_type": "markdown",
   "metadata": {},
   "source": [
    "#### Create model"
   ]
  },
  {
   "cell_type": "code",
   "execution_count": null,
   "metadata": {},
   "outputs": [],
   "source": []
  },
  {
   "cell_type": "code",
   "execution_count": 16,
   "metadata": {},
   "outputs": [],
   "source": [
    "from pyexpat import model\n",
    "from statistics import mode\n",
    "\n",
    "\n",
    "def create_model(input_size,kernel_size,num_filter,num_conv_layer,num_output):\n",
    "    model = Sequential(Conv2D(num_filter,kernel_size = kernel_size,padding='same',activation = 'relu',input_shape =input_size ))\n",
    "    for i in range(num_conv_layer):\n",
    "        model.add(Conv2D(num_filter,kernel_size = kernel_size,padding='same',activation = 'relu'))\n",
    "        model.add(Conv2D(num_filter,kernel_size = kernel_size,padding='same',activation = 'relu'))\n",
    "\n",
    "        model.add(MaxPooling2D(2, 2))\n",
    "        num_filter= num_filter+num_filter\n",
    "    model.add(Flatten())\n",
    "    model.add(Dense(units = num_output,activation = \"softmax\"))\n",
    "    return model"
   ]
  },
  {
   "cell_type": "markdown",
   "metadata": {},
   "source": [
    "#### Parameter and train"
   ]
  },
  {
   "cell_type": "code",
   "execution_count": 17,
   "metadata": {},
   "outputs": [],
   "source": [
    "conv_layers = 2\n",
    "num_filter = 32\n",
    "kernel_size = (3,3)\n",
    "num_train = len(train_gen.filenames)\n",
    "num_test = len(test_gen.filenames)\n",
    "steps_per_epoch=int(num_train / batch_size)\n",
    "\n",
    "epochs =3\n"
   ]
  },
  {
   "cell_type": "code",
   "execution_count": 18,
   "metadata": {},
   "outputs": [
    {
     "name": "stdout",
     "output_type": "stream",
     "text": [
      "Model: \"sequential_4\"\n",
      "_________________________________________________________________\n",
      " Layer (type)                Output Shape              Param #   \n",
      "=================================================================\n",
      " conv2d_32 (Conv2D)          (None, 128, 128, 32)      896       \n",
      "                                                                 \n",
      " conv2d_33 (Conv2D)          (None, 128, 128, 32)      9248      \n",
      "                                                                 \n",
      " conv2d_34 (Conv2D)          (None, 128, 128, 32)      9248      \n",
      "                                                                 \n",
      " max_pooling2d_14 (MaxPoolin  (None, 64, 64, 32)       0         \n",
      " g2D)                                                            \n",
      "                                                                 \n",
      " conv2d_35 (Conv2D)          (None, 64, 64, 64)        18496     \n",
      "                                                                 \n",
      " conv2d_36 (Conv2D)          (None, 64, 64, 64)        36928     \n",
      "                                                                 \n",
      " max_pooling2d_15 (MaxPoolin  (None, 32, 32, 64)       0         \n",
      " g2D)                                                            \n",
      "                                                                 \n",
      " flatten_4 (Flatten)         (None, 65536)             0         \n",
      "                                                                 \n",
      " dense_4 (Dense)             (None, 3)                 196611    \n",
      "                                                                 \n",
      "=================================================================\n",
      "Total params: 271,427\n",
      "Trainable params: 271,427\n",
      "Non-trainable params: 0\n",
      "_________________________________________________________________\n"
     ]
    }
   ],
   "source": [
    "model = create_model(input_size= model_input,\n",
    "                kernel_size = kernel_size,\n",
    "                num_filter=num_filter,\n",
    "                num_conv_layer = conv_layers,\n",
    "                num_output=3)\n",
    "model.summary()"
   ]
  },
  {
   "cell_type": "code",
   "execution_count": null,
   "metadata": {},
   "outputs": [],
   "source": []
  },
  {
   "cell_type": "markdown",
   "metadata": {},
   "source": [
    "### Fine tune with mlflow"
   ]
  },
  {
   "cell_type": "code",
   "execution_count": 19,
   "metadata": {},
   "outputs": [
    {
     "data": {
      "text/plain": [
       "<Experiment: artifact_location='./mlruns/1', experiment_id='1', lifecycle_stage='active', name='ths-skin-cancer-experiment', tags={}>"
      ]
     },
     "execution_count": 19,
     "metadata": {},
     "output_type": "execute_result"
    }
   ],
   "source": [
    "import mlflow\n",
    "from google.cloud import storage\n",
    "\n",
    "import os\n",
    "os.environ['GOOGLE_APPLICATION_CREDENTIALS'] = r'D:\\gans\\git_upload\\ML-in-production\\experiment-tracking\\mlflow\\mlflow_in_gcp\\service-acc\\credentials.json'\n",
    "client = storage.Client()\n",
    "mlflow.set_tracking_uri(\"http://34.172.170.236:5000/\")\n",
    "mlflow.set_experiment(\"ths-skin-cancer-experiment\")"
   ]
  },
  {
   "cell_type": "code",
   "execution_count": 20,
   "metadata": {},
   "outputs": [],
   "source": [
    "from hyperopt import fmin, tpe, hp, STATUS_OK, Trials\n",
    "from hyperopt.pyll import scope\n",
    "\n",
    "import mlflow.tensorflow\n",
    "from tensorflow.python.saved_model import signature_constants\n"
   ]
  },
  {
   "cell_type": "code",
   "execution_count": 21,
   "metadata": {},
   "outputs": [
    {
     "data": {
      "text/plain": [
       "'serving_default'"
      ]
     },
     "execution_count": 21,
     "metadata": {},
     "output_type": "execute_result"
    }
   ],
   "source": [
    "\n",
    "key=signature_constants.DEFAULT_SERVING_SIGNATURE_DEF_KEY\n",
    "key"
   ]
  },
  {
   "cell_type": "code",
   "execution_count": 22,
   "metadata": {},
   "outputs": [],
   "source": [
    "from mlflow.models.signature import infer_signature\n",
    "import shutil\n",
    "def objective(params):\n",
    "    with mlflow.start_run():  \n",
    "        mlflow.set_tag(\"developer\",\"tharhtet\")\n",
    "        mlflow.log_params(params)\n",
    "\n",
    "\n",
    "        model = create_model(input_size= model_input,\n",
    "                kernel_size = params[\"kernel_size\"],\n",
    "                num_filter=params[\"filter_size\"],\n",
    "                num_conv_layer = params[\"conv_layers\"],\n",
    "                num_output=3)\n",
    "        \n",
    "        model.compile(loss='categorical_crossentropy',\n",
    "                    optimizer=Adam(lr=params[\"learning_rate\"]),\n",
    "                    metrics=['accuracy'])\n",
    "        results = model.evaluate(test_gen , batch_size=batch_size)    \n",
    "        mlflow.log_metric(\"val_loss\", results[0])\n",
    "        mlflow.log_metric(\"val_acc\", results[1])\n",
    "\n",
    "        test_img = None\n",
    "        test_label = None\n",
    "        for image,label in test_gen:\n",
    "            test_img = image\n",
    "            test_label = label\n",
    "            break\n",
    "\n",
    "        signature = infer_signature(test_img, model.predict(test_img))\n",
    "        mlflow.keras.log_model(model, \"model\", signature=signature)\n",
    "        artifact_path = mlflow.get_artifact_uri()\n",
    "        print(\"Save to : \",artifact_path)\n",
    "        #shutil.rmtree(\"skin_cancer_classification\")\n",
    "        mlflow.keras.save_model(model,\"skin_cancer_classification\")\n",
    "            \n",
    "\n",
    "\n",
    "      \n",
    "        \n",
    "    return {'loss' :results[0],'status':STATUS_OK }\n",
    "\n",
    "        "
   ]
  },
  {
   "cell_type": "code",
   "execution_count": 23,
   "metadata": {},
   "outputs": [],
   "source": [
    "conv_layers = 2\n",
    "filters_size = [16,32,64]\n",
    "kernel_sizes= [(3,3),(5,5),(7,7)]\n",
    "learning_rate = 0.001\n",
    "epochs =3\n",
    "\n",
    "\n",
    "\n",
    "search_space = {\n",
    "    \"conv_layers\" : scope.int(hp.quniform(\"conv_layers\",2,4,1)),\n",
    "    \"filter_size\" : scope.int(hp.choice(\"filter_size\",filters_size)),\n",
    "    \"kernel_size\" : hp.choice(\"kernel_size\",kernel_sizes),\n",
    "    \"learning_rate\" : hp.loguniform(\"learning_rate\",-3,0),\n",
    "    \"epochs\" : scope.int(hp.quniform(\"epochs\",2,10,1))\n",
    "    \n",
    "\n",
    "}"
   ]
  },
  {
   "cell_type": "code",
   "execution_count": 24,
   "metadata": {},
   "outputs": [
    {
     "name": "stdout",
     "output_type": "stream",
     "text": [
      "  0%|          | 0/1 [00:00<?, ?trial/s, best loss=?]"
     ]
    },
    {
     "name": "stderr",
     "output_type": "stream",
     "text": [
      "c:\\Users\\tharh\\anaconda3\\envs\\tharhtet\\lib\\site-packages\\keras\\optimizers\\optimizer_v2\\adam.py:110: UserWarning: The `lr` argument is deprecated, use `learning_rate` instead.\n",
      "  super(Adam, self).__init__(name, **kwargs)\n",
      "\n"
     ]
    },
    {
     "name": "stdout",
     "output_type": "stream",
     "text": [
      " 1/11 [=>............................] - ETA: 7s - loss: 1.1199 - accuracy: 0.2188\n",
      " 3/11 [=======>......................] - ETA: 0s - loss: 1.1106 - accuracy: 0.2604\n",
      " 4/11 [=========>....................] - ETA: 0s - loss: 1.1069 - accuracy: 0.2969\n",
      " 5/11 [============>.................] - ETA: 0s - loss: 1.1029 - accuracy: 0.3250\n",
      " 6/11 [===============>..............] - ETA: 0s - loss: 1.1056 - accuracy: 0.3073\n",
      " 7/11 [==================>...........] - ETA: 0s - loss: 1.1061 - accuracy: 0.3036\n",
      " 8/11 [====================>.........] - ETA: 0s - loss: 1.1036 - accuracy: 0.3203\n",
      " 9/11 [=======================>......] - ETA: 0s - loss: 1.1039 - accuracy: 0.3194\n",
      "10/11 [==========================>...] - ETA: 0s - loss: 1.1027 - accuracy: 0.3250\n",
      "11/11 [==============================] - ETA: 0s - loss: 1.1014 - accuracy: 0.3333\n",
      "11/11 [==============================] - 2s 121ms/step - loss: 1.1014 - accuracy: 0.3333\n",
      "\n",
      "1/1 [==============================] - ETA: 0s       \n",
      "1/1 [==============================] - 0s 64ms/step \n",
      "\n",
      "  0%|          | 0/1 [00:04<?, ?trial/s, best loss=?]"
     ]
    },
    {
     "name": "stderr",
     "output_type": "stream",
     "text": [
      "c:\\Users\\tharh\\anaconda3\\envs\\tharhtet\\lib\\site-packages\\mlflow\\keras.py:405: UserWarning: The pyfunc inference behavior of Keras models logged with signatures differs from the behavior of Keras models logged without signatures. Specifically, when a signature is present, passing a Pandas DataFrame as input to the pyfunc `predict()` API produces an `ndarray` (for single-output models) or a dictionary of `str -> ndarray`: (for multi-output models). In contrast, when a signature is *not* present, `predict()` produces a Pandas DataFrame output in response to a Pandas DataFrame input.\n",
      "  warnings.warn(\n",
      "\n",
      "WARNING:absl:Found untraced functions such as _jit_compiled_convolution_op, _jit_compiled_convolution_op, _jit_compiled_convolution_op, _jit_compiled_convolution_op, _jit_compiled_convolution_op while saving (showing 5 of 5). These functions will not be directly callable after loading.\n",
      "\n"
     ]
    },
    {
     "name": "stdout",
     "output_type": "stream",
     "text": [
      "INFO:tensorflow:Assets written to: C:\\Users\\tharh\\AppData\\Local\\Temp\\tmpvjtf3csi\\model\\data\\model\\assets\n"
     ]
    },
    {
     "name": "stderr",
     "output_type": "stream",
     "text": [
      "INFO:tensorflow:Assets written to: C:\\Users\\tharh\\AppData\\Local\\Temp\\tmpvjtf3csi\\model\\data\\model\\assets\n",
      "\n"
     ]
    },
    {
     "name": "stdout",
     "output_type": "stream",
     "text": [
      "Save to :                                            \n",
      "./mlruns/1/6c9782c227224792bc2eee78968783e9/artifacts\n",
      "  0%|          | 0/1 [00:12<?, ?trial/s, best loss=?]"
     ]
    },
    {
     "name": "stderr",
     "output_type": "stream",
     "text": [
      "WARNING:absl:Found untraced functions such as _jit_compiled_convolution_op, _jit_compiled_convolution_op, _jit_compiled_convolution_op, _jit_compiled_convolution_op, _jit_compiled_convolution_op while saving (showing 5 of 5). These functions will not be directly callable after loading.\n",
      "\n"
     ]
    },
    {
     "name": "stdout",
     "output_type": "stream",
     "text": [
      "INFO:tensorflow:Assets written to: d:\\gans\\git_upload\\ML-in-production\\experiment-tracking\\mlflow\\mlflow_in_gcp\\skin_cancer_classification\\data\\model\\assets\n"
     ]
    },
    {
     "name": "stderr",
     "output_type": "stream",
     "text": [
      "INFO:tensorflow:Assets written to: d:\\gans\\git_upload\\ML-in-production\\experiment-tracking\\mlflow\\mlflow_in_gcp\\skin_cancer_classification\\data\\model\\assets\n",
      "\n"
     ]
    },
    {
     "name": "stdout",
     "output_type": "stream",
     "text": [
      "100%|██████████| 1/1 [00:21<00:00, 21.30s/trial, best loss: 1.101374626159668]\n"
     ]
    }
   ],
   "source": [
    "best_result = fmin(\n",
    "    fn=objective,\n",
    "    space=search_space,\n",
    "    algo=tpe.suggest,\n",
    "    max_evals=1,\n",
    "    trials=Trials()\n",
    ")"
   ]
  },
  {
   "cell_type": "code",
   "execution_count": null,
   "metadata": {},
   "outputs": [],
   "source": []
  },
  {
   "cell_type": "markdown",
   "metadata": {},
   "source": [
    "### ML flow model load and predict"
   ]
  },
  {
   "cell_type": "code",
   "execution_count": 25,
   "metadata": {},
   "outputs": [],
   "source": [
    "logged_model = 'runs:/032ab3dc30194271afcb54c8effd2758/mnist_cnn'"
   ]
  },
  {
   "cell_type": "code",
   "execution_count": 26,
   "metadata": {},
   "outputs": [
    {
     "ename": "RestException",
     "evalue": "RESOURCE_DOES_NOT_EXIST: Run '032ab3dc30194271afcb54c8effd2758' not found",
     "output_type": "error",
     "traceback": [
      "\u001b[1;31m---------------------------------------------------------------------------\u001b[0m",
      "\u001b[1;31mRestException\u001b[0m                             Traceback (most recent call last)",
      "\u001b[1;32md:\\gans\\git_upload\\ML-in-production\\experiment-tracking\\mlflow\\mlflow_in_gcp\\mlflow-gcp-exp-tracking.ipynb Cell 22\u001b[0m in \u001b[0;36m<cell line: 1>\u001b[1;34m()\u001b[0m\n\u001b[1;32m----> <a href='vscode-notebook-cell:/d%3A/gans/git_upload/ML-in-production/experiment-tracking/mlflow/mlflow_in_gcp/mlflow-gcp-exp-tracking.ipynb#X34sZmlsZQ%3D%3D?line=0'>1</a>\u001b[0m tf_model \u001b[39m=\u001b[39m mlflow\u001b[39m.\u001b[39;49mkeras\u001b[39m.\u001b[39;49mload_model(logged_model)\n\u001b[0;32m      <a href='vscode-notebook-cell:/d%3A/gans/git_upload/ML-in-production/experiment-tracking/mlflow/mlflow_in_gcp/mlflow-gcp-exp-tracking.ipynb#X34sZmlsZQ%3D%3D?line=1'>2</a>\u001b[0m tf_model\n",
      "File \u001b[1;32mc:\\Users\\tharh\\anaconda3\\envs\\tharhtet\\lib\\site-packages\\mlflow\\keras.py:581\u001b[0m, in \u001b[0;36mload_model\u001b[1;34m(model_uri, dst_path, **kwargs)\u001b[0m\n\u001b[0;32m    550\u001b[0m \u001b[39mdef\u001b[39;00m \u001b[39mload_model\u001b[39m(model_uri, dst_path\u001b[39m=\u001b[39m\u001b[39mNone\u001b[39;00m, \u001b[39m*\u001b[39m\u001b[39m*\u001b[39mkwargs):\n\u001b[0;32m    551\u001b[0m     \u001b[39m\"\"\"\u001b[39;00m\n\u001b[0;32m    552\u001b[0m \u001b[39m    Load a Keras model from a local file or a run.\u001b[39;00m\n\u001b[0;32m    553\u001b[0m \n\u001b[1;32m   (...)\u001b[0m\n\u001b[0;32m    579\u001b[0m \u001b[39m        predictions = keras_model.predict(x_test)\u001b[39;00m\n\u001b[0;32m    580\u001b[0m \u001b[39m    \"\"\"\u001b[39;00m\n\u001b[1;32m--> 581\u001b[0m     local_model_path \u001b[39m=\u001b[39m _download_artifact_from_uri(artifact_uri\u001b[39m=\u001b[39;49mmodel_uri, output_path\u001b[39m=\u001b[39;49mdst_path)\n\u001b[0;32m    582\u001b[0m     flavor_conf \u001b[39m=\u001b[39m _get_flavor_configuration(model_path\u001b[39m=\u001b[39mlocal_model_path, flavor_name\u001b[39m=\u001b[39mFLAVOR_NAME)\n\u001b[0;32m    583\u001b[0m     _add_code_from_conf_to_system_path(local_model_path, flavor_conf)\n",
      "File \u001b[1;32mc:\\Users\\tharh\\anaconda3\\envs\\tharhtet\\lib\\site-packages\\mlflow\\tracking\\artifact_utils.py:100\u001b[0m, in \u001b[0;36m_download_artifact_from_uri\u001b[1;34m(artifact_uri, output_path)\u001b[0m\n\u001b[0;32m     94\u001b[0m \u001b[39m\"\"\"\u001b[39;00m\n\u001b[0;32m     95\u001b[0m \u001b[39m:param artifact_uri: The *absolute* URI of the artifact to download.\u001b[39;00m\n\u001b[0;32m     96\u001b[0m \u001b[39m:param output_path: The local filesystem path to which to download the artifact. If unspecified,\u001b[39;00m\n\u001b[0;32m     97\u001b[0m \u001b[39m                    a local output path will be created.\u001b[39;00m\n\u001b[0;32m     98\u001b[0m \u001b[39m\"\"\"\u001b[39;00m\n\u001b[0;32m     99\u001b[0m root_uri, artifact_path \u001b[39m=\u001b[39m _get_root_uri_and_artifact_path(artifact_uri)\n\u001b[1;32m--> 100\u001b[0m \u001b[39mreturn\u001b[39;00m get_artifact_repository(artifact_uri\u001b[39m=\u001b[39;49mroot_uri)\u001b[39m.\u001b[39mdownload_artifacts(\n\u001b[0;32m    101\u001b[0m     artifact_path\u001b[39m=\u001b[39martifact_path, dst_path\u001b[39m=\u001b[39moutput_path\n\u001b[0;32m    102\u001b[0m )\n",
      "File \u001b[1;32mc:\\Users\\tharh\\anaconda3\\envs\\tharhtet\\lib\\site-packages\\mlflow\\store\\artifact\\artifact_repository_registry.py:107\u001b[0m, in \u001b[0;36mget_artifact_repository\u001b[1;34m(artifact_uri)\u001b[0m\n\u001b[0;32m     97\u001b[0m \u001b[39mdef\u001b[39;00m \u001b[39mget_artifact_repository\u001b[39m(artifact_uri):\n\u001b[0;32m     98\u001b[0m     \u001b[39m\"\"\"Get an artifact repository from the registry based on the scheme of artifact_uri\u001b[39;00m\n\u001b[0;32m     99\u001b[0m \n\u001b[0;32m    100\u001b[0m \u001b[39m    :param artifact_uri: The artifact store URI. This URI is used to select which artifact\u001b[39;00m\n\u001b[1;32m   (...)\u001b[0m\n\u001b[0;32m    105\u001b[0m \u001b[39m             requirements.\u001b[39;00m\n\u001b[0;32m    106\u001b[0m \u001b[39m    \"\"\"\u001b[39;00m\n\u001b[1;32m--> 107\u001b[0m     \u001b[39mreturn\u001b[39;00m _artifact_repository_registry\u001b[39m.\u001b[39;49mget_artifact_repository(artifact_uri)\n",
      "File \u001b[1;32mc:\\Users\\tharh\\anaconda3\\envs\\tharhtet\\lib\\site-packages\\mlflow\\store\\artifact\\artifact_repository_registry.py:73\u001b[0m, in \u001b[0;36mArtifactRepositoryRegistry.get_artifact_repository\u001b[1;34m(self, artifact_uri)\u001b[0m\n\u001b[0;32m     66\u001b[0m \u001b[39mif\u001b[39;00m repository \u001b[39mis\u001b[39;00m \u001b[39mNone\u001b[39;00m:\n\u001b[0;32m     67\u001b[0m     \u001b[39mraise\u001b[39;00m MlflowException(\n\u001b[0;32m     68\u001b[0m         \u001b[39m\"\u001b[39m\u001b[39mCould not find a registered artifact repository for: \u001b[39m\u001b[39m{}\u001b[39;00m\u001b[39m. \u001b[39m\u001b[39m\"\u001b[39m\n\u001b[0;32m     69\u001b[0m         \u001b[39m\"\u001b[39m\u001b[39mCurrently registered schemes are: \u001b[39m\u001b[39m{}\u001b[39;00m\u001b[39m\"\u001b[39m\u001b[39m.\u001b[39mformat(\n\u001b[0;32m     70\u001b[0m             artifact_uri, \u001b[39mlist\u001b[39m(\u001b[39mself\u001b[39m\u001b[39m.\u001b[39m_registry\u001b[39m.\u001b[39mkeys())\n\u001b[0;32m     71\u001b[0m         )\n\u001b[0;32m     72\u001b[0m     )\n\u001b[1;32m---> 73\u001b[0m \u001b[39mreturn\u001b[39;00m repository(artifact_uri)\n",
      "File \u001b[1;32mc:\\Users\\tharh\\anaconda3\\envs\\tharhtet\\lib\\site-packages\\mlflow\\store\\artifact\\runs_artifact_repo.py:26\u001b[0m, in \u001b[0;36mRunsArtifactRepository.__init__\u001b[1;34m(self, artifact_uri)\u001b[0m\n\u001b[0;32m     23\u001b[0m \u001b[39mfrom\u001b[39;00m \u001b[39mmlflow\u001b[39;00m\u001b[39m.\u001b[39;00m\u001b[39mstore\u001b[39;00m\u001b[39m.\u001b[39;00m\u001b[39martifact\u001b[39;00m\u001b[39m.\u001b[39;00m\u001b[39martifact_repository_registry\u001b[39;00m \u001b[39mimport\u001b[39;00m get_artifact_repository\n\u001b[0;32m     25\u001b[0m \u001b[39msuper\u001b[39m()\u001b[39m.\u001b[39m\u001b[39m__init__\u001b[39m(artifact_uri)\n\u001b[1;32m---> 26\u001b[0m uri \u001b[39m=\u001b[39m RunsArtifactRepository\u001b[39m.\u001b[39;49mget_underlying_uri(artifact_uri)\n\u001b[0;32m     27\u001b[0m \u001b[39mself\u001b[39m\u001b[39m.\u001b[39mrepo \u001b[39m=\u001b[39m get_artifact_repository(uri)\n",
      "File \u001b[1;32mc:\\Users\\tharh\\anaconda3\\envs\\tharhtet\\lib\\site-packages\\mlflow\\store\\artifact\\runs_artifact_repo.py:39\u001b[0m, in \u001b[0;36mRunsArtifactRepository.get_underlying_uri\u001b[1;34m(runs_uri)\u001b[0m\n\u001b[0;32m     37\u001b[0m (run_id, artifact_path) \u001b[39m=\u001b[39m RunsArtifactRepository\u001b[39m.\u001b[39mparse_runs_uri(runs_uri)\n\u001b[0;32m     38\u001b[0m tracking_uri \u001b[39m=\u001b[39m get_databricks_profile_uri_from_artifact_uri(runs_uri)\n\u001b[1;32m---> 39\u001b[0m uri \u001b[39m=\u001b[39m get_artifact_uri(run_id, artifact_path, tracking_uri)\n\u001b[0;32m     40\u001b[0m \u001b[39massert\u001b[39;00m \u001b[39mnot\u001b[39;00m RunsArtifactRepository\u001b[39m.\u001b[39mis_runs_uri(uri)  \u001b[39m# avoid an infinite loop\u001b[39;00m\n\u001b[0;32m     41\u001b[0m \u001b[39mreturn\u001b[39;00m add_databricks_profile_info_to_artifact_uri(uri, tracking_uri)\n",
      "File \u001b[1;32mc:\\Users\\tharh\\anaconda3\\envs\\tharhtet\\lib\\site-packages\\mlflow\\tracking\\artifact_utils.py:47\u001b[0m, in \u001b[0;36mget_artifact_uri\u001b[1;34m(run_id, artifact_path, tracking_uri)\u001b[0m\n\u001b[0;32m     41\u001b[0m     \u001b[39mraise\u001b[39;00m MlflowException(\n\u001b[0;32m     42\u001b[0m         message\u001b[39m=\u001b[39m\u001b[39m\"\u001b[39m\u001b[39mA run_id must be specified in order to obtain an artifact uri!\u001b[39m\u001b[39m\"\u001b[39m,\n\u001b[0;32m     43\u001b[0m         error_code\u001b[39m=\u001b[39mINVALID_PARAMETER_VALUE,\n\u001b[0;32m     44\u001b[0m     )\n\u001b[0;32m     46\u001b[0m store \u001b[39m=\u001b[39m _get_store(tracking_uri)\n\u001b[1;32m---> 47\u001b[0m run \u001b[39m=\u001b[39m store\u001b[39m.\u001b[39;49mget_run(run_id)\n\u001b[0;32m     48\u001b[0m \u001b[39m# Maybe move this method to RunsArtifactRepository so the circular dependency is clearer.\u001b[39;00m\n\u001b[0;32m     49\u001b[0m \u001b[39massert\u001b[39;00m urllib\u001b[39m.\u001b[39mparse\u001b[39m.\u001b[39murlparse(run\u001b[39m.\u001b[39minfo\u001b[39m.\u001b[39martifact_uri)\u001b[39m.\u001b[39mscheme \u001b[39m!=\u001b[39m \u001b[39m\"\u001b[39m\u001b[39mruns\u001b[39m\u001b[39m\"\u001b[39m  \u001b[39m# avoid an infinite loop\u001b[39;00m\n",
      "File \u001b[1;32mc:\\Users\\tharh\\anaconda3\\envs\\tharhtet\\lib\\site-packages\\mlflow\\store\\tracking\\rest_store.py:163\u001b[0m, in \u001b[0;36mRestStore.get_run\u001b[1;34m(self, run_id)\u001b[0m\n\u001b[0;32m    155\u001b[0m \u001b[39m\"\"\"\u001b[39;00m\n\u001b[0;32m    156\u001b[0m \u001b[39mFetch the run from backend store\u001b[39;00m\n\u001b[0;32m    157\u001b[0m \n\u001b[1;32m   (...)\u001b[0m\n\u001b[0;32m    160\u001b[0m \u001b[39m:return: A single Run object if it exists, otherwise raises an Exception\u001b[39;00m\n\u001b[0;32m    161\u001b[0m \u001b[39m\"\"\"\u001b[39;00m\n\u001b[0;32m    162\u001b[0m req_body \u001b[39m=\u001b[39m message_to_json(GetRun(run_uuid\u001b[39m=\u001b[39mrun_id, run_id\u001b[39m=\u001b[39mrun_id))\n\u001b[1;32m--> 163\u001b[0m response_proto \u001b[39m=\u001b[39m \u001b[39mself\u001b[39;49m\u001b[39m.\u001b[39;49m_call_endpoint(GetRun, req_body)\n\u001b[0;32m    164\u001b[0m \u001b[39mreturn\u001b[39;00m Run\u001b[39m.\u001b[39mfrom_proto(response_proto\u001b[39m.\u001b[39mrun)\n",
      "File \u001b[1;32mc:\\Users\\tharh\\anaconda3\\envs\\tharhtet\\lib\\site-packages\\mlflow\\store\\tracking\\rest_store.py:57\u001b[0m, in \u001b[0;36mRestStore._call_endpoint\u001b[1;34m(self, api, json_body)\u001b[0m\n\u001b[0;32m     55\u001b[0m endpoint, method \u001b[39m=\u001b[39m _METHOD_TO_INFO[api]\n\u001b[0;32m     56\u001b[0m response_proto \u001b[39m=\u001b[39m api\u001b[39m.\u001b[39mResponse()\n\u001b[1;32m---> 57\u001b[0m \u001b[39mreturn\u001b[39;00m call_endpoint(\u001b[39mself\u001b[39;49m\u001b[39m.\u001b[39;49mget_host_creds(), endpoint, method, json_body, response_proto)\n",
      "File \u001b[1;32mc:\\Users\\tharh\\anaconda3\\envs\\tharhtet\\lib\\site-packages\\mlflow\\utils\\rest_utils.py:274\u001b[0m, in \u001b[0;36mcall_endpoint\u001b[1;34m(host_creds, endpoint, method, json_body, response_proto)\u001b[0m\n\u001b[0;32m    270\u001b[0m \u001b[39melse\u001b[39;00m:\n\u001b[0;32m    271\u001b[0m     response \u001b[39m=\u001b[39m http_request(\n\u001b[0;32m    272\u001b[0m         host_creds\u001b[39m=\u001b[39mhost_creds, endpoint\u001b[39m=\u001b[39mendpoint, method\u001b[39m=\u001b[39mmethod, json\u001b[39m=\u001b[39mjson_body\n\u001b[0;32m    273\u001b[0m     )\n\u001b[1;32m--> 274\u001b[0m response \u001b[39m=\u001b[39m verify_rest_response(response, endpoint)\n\u001b[0;32m    275\u001b[0m js_dict \u001b[39m=\u001b[39m json\u001b[39m.\u001b[39mloads(response\u001b[39m.\u001b[39mtext)\n\u001b[0;32m    276\u001b[0m parse_dict(js_dict\u001b[39m=\u001b[39mjs_dict, message\u001b[39m=\u001b[39mresponse_proto)\n",
      "File \u001b[1;32mc:\\Users\\tharh\\anaconda3\\envs\\tharhtet\\lib\\site-packages\\mlflow\\utils\\rest_utils.py:200\u001b[0m, in \u001b[0;36mverify_rest_response\u001b[1;34m(response, endpoint)\u001b[0m\n\u001b[0;32m    198\u001b[0m \u001b[39mif\u001b[39;00m response\u001b[39m.\u001b[39mstatus_code \u001b[39m!=\u001b[39m \u001b[39m200\u001b[39m:\n\u001b[0;32m    199\u001b[0m     \u001b[39mif\u001b[39;00m _can_parse_as_json_object(response\u001b[39m.\u001b[39mtext):\n\u001b[1;32m--> 200\u001b[0m         \u001b[39mraise\u001b[39;00m RestException(json\u001b[39m.\u001b[39mloads(response\u001b[39m.\u001b[39mtext))\n\u001b[0;32m    201\u001b[0m     \u001b[39melse\u001b[39;00m:\n\u001b[0;32m    202\u001b[0m         base_msg \u001b[39m=\u001b[39m \u001b[39m\"\u001b[39m\u001b[39mAPI request to endpoint \u001b[39m\u001b[39m%s\u001b[39;00m\u001b[39m failed with error code \u001b[39m\u001b[39m%s\u001b[39;00m\u001b[39m != 200\u001b[39m\u001b[39m\"\u001b[39m \u001b[39m%\u001b[39m (\n\u001b[0;32m    203\u001b[0m             endpoint,\n\u001b[0;32m    204\u001b[0m             response\u001b[39m.\u001b[39mstatus_code,\n\u001b[0;32m    205\u001b[0m         )\n",
      "\u001b[1;31mRestException\u001b[0m: RESOURCE_DOES_NOT_EXIST: Run '032ab3dc30194271afcb54c8effd2758' not found"
     ]
    }
   ],
   "source": [
    "tf_model = mlflow.keras.load_model(logged_model)\n",
    "tf_model"
   ]
  },
  {
   "cell_type": "code",
   "execution_count": null,
   "metadata": {},
   "outputs": [
    {
     "name": "stdout",
     "output_type": "stream",
     "text": [
      "(128, 128, 3)\n"
     ]
    },
    {
     "data": {
      "text/plain": [
       "<matplotlib.image.AxesImage at 0x1ad7bf699a0>"
      ]
     },
     "execution_count": 27,
     "metadata": {},
     "output_type": "execute_result"
    },
    {
     "data": {
      "image/png": "[encoded data removed]",
      "text/plain": [
       "<Figure size 432x288 with 1 Axes>"
      ]
     },
     "metadata": {
      "needs_background": "light"
     },
     "output_type": "display_data"
    }
   ],
   "source": [
    "import matplotlib.pyplot as plt\n",
    "import numpy as np\n",
    "test_img = None\n",
    "test_label = None\n",
    "for image,label in test_gen:\n",
    "    test_img = image[0]\n",
    "    test_label = label[0]\n",
    "    break\n",
    "print(test_img.shape)\n",
    "plt.imshow(test_img)\n"
   ]
  },
  {
   "cell_type": "code",
   "execution_count": null,
   "metadata": {},
   "outputs": [
    {
     "name": "stdout",
     "output_type": "stream",
     "text": [
      "1/1 [==============================] - 1s 597ms/step\n"
     ]
    },
    {
     "data": {
      "text/plain": [
       "array([[0.33352116, 0.33142653, 0.33505228]], dtype=float32)"
      ]
     },
     "execution_count": 28,
     "metadata": {},
     "output_type": "execute_result"
    },
    {
     "ename": "",
     "evalue": "",
     "output_type": "error",
     "traceback": [
      "The Kernel crashed while executing code in the the current cell or a previous cell. Please review the code in the cell(s) to identify a possible cause of the failure. Click <a href='https://aka.ms/vscodeJupyterKernelCrash'>here</a> for more info. View Jupyter <a href='command:jupyter.viewOutput'>log</a> for further details."
     ]
    }
   ],
   "source": [
    "\n",
    "img = np.array([test_img])\n",
    "tf_model.predict(img,batch_size=1)"
   ]
  },
  {
   "cell_type": "code",
   "execution_count": null,
   "metadata": {},
   "outputs": [],
   "source": []
  }
 ],
 "metadata": {
  "kernelspec": {
   "display_name": "Python 3.9.12 ('tharhtet')",
   "language": "python",
   "name": "python3"
  },
  "language_info": {
   "codemirror_mode": {
    "name": "ipython",
    "version": 3
   },
   "file_extension": ".py",
   "mimetype": "text/x-python",
   "name": "python",
   "nbconvert_exporter": "python",
   "pygments_lexer": "ipython3",
   "version": "3.9.12"
  },
  "orig_nbformat": 4,
  "vscode": {
   "interpreter": {
    "hash": "b46ff7e5b8b7911cfa9955e23e477c53e63d207f4b9ab3253a6a5ac7336ecbe5"
   }
  }
 },
 "nbformat": 4,
 "nbformat_minor": 2
}
