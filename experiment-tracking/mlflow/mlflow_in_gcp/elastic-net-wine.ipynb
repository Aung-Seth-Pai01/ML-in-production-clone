{
  "cells": [
    {
      "cell_type": "markdown",
      "metadata": {
        "colab_type": "text",
        "id": "view-in-github"
      },
      "source": [
        "<a href=\"https://colab.research.google.com/gist/shadab-entrepreneur/0688927c9a98a7c4e39f1e3a838f5307/elastic-net-wine.ipynb\" target=\"_parent\"><img src=\"https://colab.research.google.com/assets/colab-badge.svg\" alt=\"Open In Colab\"/></a>"
      ]
    },
    {
      "cell_type": "code",
      "execution_count": 2,
      "metadata": {
        "colab": {},
        "colab_type": "code",
        "id": "W-8U_1WMxR25"
      },
      "outputs": [],
      "source": [
        "import os\n",
        "os.environ['GOOGLE_APPLICATION_CREDENTIALS'] = r'D:\\gans\\git_upload\\ML-in-production\\experiment-tracking\\mlflow\\mlflow_in_gcp\\service-acc\\credentials.json'\n"
      ]
    },
    {
      "cell_type": "code",
      "execution_count": 3,
      "metadata": {
        "colab": {},
        "colab_type": "code",
        "id": "tCyWYmsJxR3U"
      },
      "outputs": [],
      "source": [
        "from google.cloud import storage\n",
        "client = storage.Client()"
      ]
    },
    {
      "cell_type": "code",
      "execution_count": 4,
      "metadata": {
        "colab": {},
        "colab_type": "code",
        "id": "polVop_xxR3g"
      },
      "outputs": [],
      "source": [
        "# Import various libraries including matplotlib, sklearn, mlflow\n",
        "import os\n",
        "import warnings\n",
        "import sys\n",
        "\n",
        "import pandas as pd\n",
        "import numpy as np\n",
        "from itertools import cycle\n",
        "import matplotlib.pyplot as plt\n",
        "from sklearn.metrics import mean_squared_error, mean_absolute_error, r2_score\n",
        "from sklearn.model_selection import train_test_split\n",
        "from sklearn.linear_model import ElasticNet\n",
        "from sklearn.linear_model import lasso_path, enet_path\n",
        "from sklearn import datasets\n",
        "\n",
        "# Import mlflow\n",
        "import mlflow\n",
        "import mlflow.sklearn"
      ]
    },
    {
      "cell_type": "code",
      "execution_count": 5,
      "metadata": {
        "colab": {},
        "colab_type": "code",
        "id": "ZE6On6dWxR3n"
      },
      "outputs": [],
      "source": [
        "# Load Diabetes datasets\n",
        "diabetes = datasets.load_diabetes()\n",
        "X = diabetes.data\n",
        "y = diabetes.target\n",
        "\n",
        "# Create pandas DataFrame for sklearn ElasticNet linear_model\n",
        "Y = np.array([y]).transpose()\n",
        "d = np.concatenate((X, Y), axis=1)\n",
        "cols = ['age', 'sex', 'bmi', 'bp', 's1', 's2', 's3', 's4', 's5', 's6', 'progression']\n",
        "data = pd.DataFrame(d, columns=cols)"
      ]
    },
    {
      "cell_type": "code",
      "execution_count": 6,
      "metadata": {
        "colab": {},
        "colab_type": "code",
        "id": "je--IttExR3v"
      },
      "outputs": [],
      "source": [
        "# Plot graphs\n",
        "def plot_enet_descent_path(X, y, l1_ratio):\n",
        "    # Compute paths\n",
        "    eps = 5e-3  # the smaller it is the longer is the path\n",
        "\n",
        "    # Reference the global image variable\n",
        "    global image\n",
        "    \n",
        "    print(\"Computing regularization path using ElasticNet.\")\n",
        "    alphas_enet, coefs_enet, _ = enet_path(X, y, eps=eps, l1_ratio=l1_ratio, fit_intercept=False)\n",
        "\n",
        "    # Display results\n",
        "    fig = plt.figure(1)\n",
        "    ax = plt.gca()\n",
        "\n",
        "    colors = cycle(['b', 'r', 'g', 'c', 'k'])\n",
        "    neg_log_alphas_enet = -np.log10(alphas_enet)\n",
        "    for coef_e, c in zip(coefs_enet, colors):\n",
        "        l1 = plt.plot(neg_log_alphas_enet, coef_e, linestyle='--', c=c)\n",
        "\n",
        "    plt.xlabel('-Log(alpha)')\n",
        "    plt.ylabel('coefficients')\n",
        "    title = 'ElasticNet Path by alpha for l1_ratio = ' + str(l1_ratio)\n",
        "    plt.title(title)\n",
        "    plt.axis('tight')\n",
        "\n",
        "    # Display images\n",
        "    image = fig\n",
        "    \n",
        "    # Save figure\n",
        "    fig.savefig(\"ElasticNet-paths.png\")\n",
        "\n",
        "    # Close plot\n",
        "    plt.close(fig)\n",
        "\n",
        "    # Return images\n",
        "    return image"
      ]
    },
    {
      "cell_type": "code",
      "execution_count": 17,
      "metadata": {
        "colab": {},
        "colab_type": "code",
        "id": "Xs-VdSz9xR35"
      },
      "outputs": [],
      "source": [
        "# train_diabetes\n",
        "#   Uses the sklearn Diabetes dataset to predict diabetes progression using ElasticNet\n",
        "#       The predicted \"progression\" column is a quantitative measure of disease progression one year after baseline\n",
        "#       http://scikit-learn.org/stable/modules/generated/sklearn.datasets.load_diabetes.html\n",
        "def train_diabetes(data, in_alpha, in_l1_ratio):\n",
        "  # Evaluate metrics\n",
        "  def eval_metrics(actual, pred):\n",
        "      rmse = np.sqrt(mean_squared_error(actual, pred))\n",
        "      mae = mean_absolute_error(actual, pred)\n",
        "      r2 = r2_score(actual, pred)\n",
        "      return rmse, mae, r2\n",
        "\n",
        "  warnings.filterwarnings(\"ignore\")\n",
        "  np.random.seed(40)\n",
        "\n",
        "  # Split the data into training and test sets. (0.75, 0.25) split.\n",
        "  train, test = train_test_split(data)\n",
        "\n",
        "  # The predicted column is \"progression\" which is a quantitative measure of disease progression one year after baseline\n",
        "  train_x = train.drop([\"progression\"], axis=1)\n",
        "  test_x = test.drop([\"progression\"], axis=1)\n",
        "  train_y = train[[\"progression\"]]\n",
        "  test_y = test[[\"progression\"]]\n",
        "\n",
        "  if float(in_alpha) is None:\n",
        "    alpha = 0.05\n",
        "  else:\n",
        "    alpha = float(in_alpha)\n",
        "    \n",
        "  if float(in_l1_ratio) is None:\n",
        "    l1_ratio = 0.05\n",
        "  else:\n",
        "    l1_ratio = float(in_l1_ratio)\n",
        "  experiment_name = \"experiment_wine\"\n",
        "  ## check if the experiment already exists\n",
        "  if not mlflow.get_experiment_by_name(experiment_name):\n",
        "    mlflow.create_experiment(name=experiment_name) \n",
        "  experiment = mlflow.get_experiment_by_name(experiment_name)\n",
        "\n",
        "  mlflow.set_tracking_uri(\"http://34.172.170.236:5000/\")\n",
        "  # Start an MLflow run; the \"with\" keyword ensures we'll close the run even if this cell crashes\n",
        "  with mlflow.start_run(experiment_id = experiment.experiment_id):\n",
        "    lr = ElasticNet(alpha=alpha, l1_ratio=l1_ratio, random_state=42)\n",
        "    lr.fit(train_x, train_y)\n",
        "\n",
        "    predicted_qualities = lr.predict(test_x)\n",
        "\n",
        "    (rmse, mae, r2) = eval_metrics(test_y, predicted_qualities)\n",
        "\n",
        "    # Print out ElasticNet model metrics\n",
        "    print(\"Elasticnet model (alpha=%f, l1_ratio=%f):\" % (alpha, l1_ratio))\n",
        "    print(\"  RMSE: %s\" % rmse)\n",
        "    print(\"  MAE: %s\" % mae)\n",
        "    print(\"  R2: %s\" % r2)\n",
        "\n",
        "    # Set tracking_URI first and then reset it back to not specifying port\n",
        "    # Note, we had specified this in an earlier cell mlflow.set_tracking_uri(mlflow_tracking_URI)\n",
        "\n",
        "    # Log mlflow attributes for mlflow UI\n",
        "    mlflow.log_param(\"alpha\", alpha)\n",
        "    mlflow.log_param(\"l1_ratio\", l1_ratio)\n",
        "    mlflow.log_metric(\"rmse\", rmse)\n",
        "    mlflow.log_metric(\"r2\", r2)\n",
        "    mlflow.log_metric(\"mae\", mae)\n",
        "    mlflow.sklearn.log_model(lr, \"model\")\n",
        "    artifact_path = mlflow.get_artifact_uri()\n",
        "    print(artifact_path)\n",
        "    # Save model\n",
        "    mlflow.sklearn.save_model(lr, artifact_path)\n",
        "    \n",
        "    # Call plot_enet_descent_path\n",
        "    #image = plot_enet_descent_path(X, y, l1_ratio)\n",
        "    # Log artifacts (plot)\n",
        "    "
      ]
    },
    {
      "cell_type": "code",
      "execution_count": 18,
      "metadata": {
        "colab": {},
        "colab_type": "code",
        "id": "Hbf394HTxR4J",
        "outputId": "f4498a82-a71b-4c0e-b681-c981434345c4",
        "scrolled": false
      },
      "outputs": [
        {
          "name": "stdout",
          "output_type": "stream",
          "text": [
            "Elasticnet model (alpha=0.010000, l1_ratio=0.040000):\n",
            "  RMSE: 71.24199917771371\n",
            "  MAE: 59.94368348015874\n",
            "  R2: 0.2325990149189191\n",
            "gs://ths-mlflow-artifacts-remote/2/c7046a5f966046088e8fb104c37cec62/artifacts\n"
          ]
        }
      ],
      "source": [
        "train_diabetes(data, 0.01, 0.04)"
      ]
    },
    {
      "cell_type": "code",
      "execution_count": null,
      "metadata": {},
      "outputs": [],
      "source": []
    },
    {
      "cell_type": "code",
      "execution_count": null,
      "metadata": {},
      "outputs": [],
      "source": []
    }
  ],
  "metadata": {
    "colab": {
      "include_colab_link": true,
      "name": "Elastic Net Wine.ipynb",
      "provenance": []
    },
    "kernelspec": {
      "display_name": "base",
      "language": "python",
      "name": "base"
    },
    "language_info": {
      "codemirror_mode": {
        "name": "ipython",
        "version": 3
      },
      "file_extension": ".py",
      "mimetype": "text/x-python",
      "name": "python",
      "nbconvert_exporter": "python",
      "pygments_lexer": "ipython3",
      "version": "3.9.12"
    }
  },
  "nbformat": 4,
  "nbformat_minor": 0
}
