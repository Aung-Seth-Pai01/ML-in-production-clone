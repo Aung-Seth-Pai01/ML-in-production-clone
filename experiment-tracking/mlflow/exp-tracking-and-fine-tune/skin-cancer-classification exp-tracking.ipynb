{
 "cells": [
  {
   "cell_type": "code",
   "execution_count": 14,
   "metadata": {},
   "outputs": [],
   "source": [
    "import tensorflow as tf\n",
    "from tensorflow.keras.layers import Dense,GlobalAveragePooling2D,Dropout,Flatten,Conv2D,Input,MaxPooling2D\n",
    "from tensorflow.keras.optimizers import Adam\n",
    "from tensorflow.keras.models import Sequential\n",
    "from tensorflow.keras.preprocessing.image import ImageDataGenerator"
   ]
  },
  {
   "cell_type": "markdown",
   "metadata": {},
   "source": [
    "#### Data generator"
   ]
  },
  {
   "cell_type": "code",
   "execution_count": 15,
   "metadata": {},
   "outputs": [],
   "source": [
    "root_path = r\"E:\\deep_learning\\skin_cancer\\dataset\\dataset\"\n",
    "img_width,img_height = 128,128\n",
    "model_input = (img_width,img_height,3)\n",
    "img_size = (img_width,img_height)\n",
    "batch_size = 32"
   ]
  },
  {
   "cell_type": "code",
   "execution_count": 16,
   "metadata": {},
   "outputs": [
    {
     "name": "stdout",
     "output_type": "stream",
     "text": [
      "Found 2967 images belonging to 3 classes.\n",
      "Found 330 images belonging to 3 classes.\n"
     ]
    }
   ],
   "source": [
    "\n",
    "\n",
    "_datagen = ImageDataGenerator(\n",
    "        rescale=1/255,\n",
    "\t\twidth_shift_range=0.1,\n",
    "\t\theight_shift_range=0.1,\n",
    "\t\thorizontal_flip=True)\n",
    "\n",
    "train_gen = _datagen.flow_from_directory(\n",
    "    root_path+\"/train\",\n",
    "    target_size = img_size,\n",
    "    batch_size=batch_size,\n",
    "    class_mode = \"categorical\"\n",
    ")\n",
    "\n",
    "\n",
    "test_gen = _datagen.flow_from_directory(\n",
    "    root_path+\"/test\",\n",
    "    target_size = img_size,\n",
    "    batch_size=batch_size,\n",
    "    class_mode = \"categorical\"\n",
    ")"
   ]
  },
  {
   "cell_type": "markdown",
   "metadata": {},
   "source": [
    "#### Create model"
   ]
  },
  {
   "cell_type": "code",
   "execution_count": null,
   "metadata": {},
   "outputs": [],
   "source": []
  },
  {
   "cell_type": "code",
   "execution_count": 17,
   "metadata": {},
   "outputs": [],
   "source": [
    "from pyexpat import model\n",
    "from statistics import mode\n",
    "\n",
    "\n",
    "def create_model(input_size,kernel_size,num_filter,num_conv_layer,num_output):\n",
    "    model = Sequential(Conv2D(num_filter,kernel_size = kernel_size,padding='same',activation = 'relu',input_shape =input_size ))\n",
    "    for i in range(num_conv_layer):\n",
    "        model.add(Conv2D(num_filter,kernel_size = kernel_size,padding='same',activation = 'relu'))\n",
    "        model.add(Conv2D(num_filter,kernel_size = kernel_size,padding='same',activation = 'relu'))\n",
    "\n",
    "        model.add(MaxPooling2D(2, 2))\n",
    "        num_filter= num_filter+num_filter\n",
    "    model.add(Flatten())\n",
    "    model.add(Dense(units = num_output,activation = \"softmax\"))\n",
    "    return model"
   ]
  },
  {
   "cell_type": "markdown",
   "metadata": {},
   "source": [
    "#### Parameter and train"
   ]
  },
  {
   "cell_type": "code",
   "execution_count": 18,
   "metadata": {},
   "outputs": [],
   "source": [
    "conv_layers = 2\n",
    "num_filter = 32\n",
    "kernel_size = (3,3)\n",
    "num_train = len(train_gen.filenames)\n",
    "num_test = len(test_gen.filenames)\n",
    "steps_per_epoch=int(num_train / batch_size)\n",
    "\n",
    "epochs =3\n"
   ]
  },
  {
   "cell_type": "code",
   "execution_count": 19,
   "metadata": {},
   "outputs": [
    {
     "name": "stdout",
     "output_type": "stream",
     "text": [
      "Model: \"sequential_1\"\n",
      "_________________________________________________________________\n",
      " Layer (type)                Output Shape              Param #   \n",
      "=================================================================\n",
      " conv2d_5 (Conv2D)           (None, 128, 128, 32)      896       \n",
      "                                                                 \n",
      " conv2d_6 (Conv2D)           (None, 128, 128, 32)      9248      \n",
      "                                                                 \n",
      " conv2d_7 (Conv2D)           (None, 128, 128, 32)      9248      \n",
      "                                                                 \n",
      " max_pooling2d_2 (MaxPooling  (None, 64, 64, 32)       0         \n",
      " 2D)                                                             \n",
      "                                                                 \n",
      " conv2d_8 (Conv2D)           (None, 64, 64, 64)        18496     \n",
      "                                                                 \n",
      " conv2d_9 (Conv2D)           (None, 64, 64, 64)        36928     \n",
      "                                                                 \n",
      " max_pooling2d_3 (MaxPooling  (None, 32, 32, 64)       0         \n",
      " 2D)                                                             \n",
      "                                                                 \n",
      " flatten_1 (Flatten)         (None, 65536)             0         \n",
      "                                                                 \n",
      " dense_1 (Dense)             (None, 3)                 196611    \n",
      "                                                                 \n",
      "=================================================================\n",
      "Total params: 271,427\n",
      "Trainable params: 271,427\n",
      "Non-trainable params: 0\n",
      "_________________________________________________________________\n"
     ]
    }
   ],
   "source": [
    "model = create_model(input_size= model_input,\n",
    "                kernel_size = kernel_size,\n",
    "                num_filter=num_filter,\n",
    "                num_conv_layer = conv_layers,\n",
    "                num_output=3)\n",
    "model.summary()"
   ]
  },
  {
   "cell_type": "code",
   "execution_count": 20,
   "metadata": {},
   "outputs": [],
   "source": [
    "\n",
    "\n",
    "model.compile(loss='categorical_crossentropy',\n",
    "              optimizer=Adam(lr=0.001),\n",
    "              metrics=['accuracy'])"
   ]
  },
  {
   "cell_type": "code",
   "execution_count": 21,
   "metadata": {},
   "outputs": [
    {
     "name": "stdout",
     "output_type": "stream",
     "text": [
      "Epoch 1/3\n"
     ]
    },
    {
     "name": "stderr",
     "output_type": "stream",
     "text": [
      "C:\\Users\\tharh\\AppData\\Local\\Temp\\ipykernel_11364\\1490670082.py:1: UserWarning: `Model.fit_generator` is deprecated and will be removed in a future version. Please use `Model.fit`, which supports generators.\n",
      "  history = model.fit_generator(train_gen, steps_per_epoch=steps_per_epoch, epochs=epochs,\n"
     ]
    },
    {
     "name": "stdout",
     "output_type": "stream",
     "text": [
      "92/92 [==============================] - 13s 136ms/step - loss: 0.7690 - accuracy: 0.6361 - val_loss: 0.7088 - val_accuracy: 0.7000\n",
      "Epoch 2/3\n",
      "92/92 [==============================] - 13s 137ms/step - loss: 0.6093 - accuracy: 0.7199 - val_loss: 0.7007 - val_accuracy: 0.6812\n",
      "Epoch 3/3\n",
      "92/92 [==============================] - 13s 140ms/step - loss: 0.5284 - accuracy: 0.7642 - val_loss: 0.5894 - val_accuracy: 0.7344\n"
     ]
    }
   ],
   "source": [
    "history = model.fit_generator(train_gen, steps_per_epoch=steps_per_epoch, epochs=epochs,\n",
    "                            validation_data=test_gen,\n",
    "                            validation_steps=int(num_test / batch_size))"
   ]
  },
  {
   "cell_type": "code",
   "execution_count": 22,
   "metadata": {},
   "outputs": [
    {
     "data": {
      "image/png": "[encoded data removed]",
      "text/plain": [
       "<Figure size 576x576 with 2 Axes>"
      ]
     },
     "metadata": {
      "needs_background": "light"
     },
     "output_type": "display_data"
    }
   ],
   "source": [
    "import matplotlib.pyplot as plt\n",
    "acc = history.history['accuracy']\n",
    "val_acc = history.history['val_accuracy']\n",
    "\n",
    "loss = history.history['loss']\n",
    "val_loss = history.history['val_loss']\n",
    "\n",
    "plt.figure(figsize=(8, 8))\n",
    "plt.subplot(2, 1, 1)\n",
    "plt.plot(acc, label='Training Accuracy')\n",
    "plt.plot(val_acc, label='Validation Accuracy')\n",
    "plt.legend(loc='lower right')\n",
    "plt.ylabel('Accuracy')\n",
    "plt.ylim([min(plt.ylim()),1])\n",
    "plt.title('Training and Validation Accuracy')\n",
    "\n",
    "plt.subplot(2, 1, 2)\n",
    "plt.plot(loss, label='Training Loss')\n",
    "plt.plot(val_loss, label='Validation Loss')\n",
    "plt.legend(loc='upper right')\n",
    "plt.ylabel('Cross Entropy')\n",
    "plt.ylim([0,1.0])\n",
    "plt.title('Training and Validation Loss')\n",
    "plt.xlabel('epoch')\n",
    "plt.show()"
   ]
  },
  {
   "cell_type": "code",
   "execution_count": 23,
   "metadata": {},
   "outputs": [
    {
     "name": "stdout",
     "output_type": "stream",
     "text": [
      "Evaluate on test data\n",
      "11/11 [==============================] - 2s 136ms/step - loss: 0.5866 - accuracy: 0.7303\n",
      "test loss, test acc: [0.586582601070404, 0.7303030490875244]\n"
     ]
    }
   ],
   "source": [
    "print(\"Evaluate on test data\")\n",
    "results = model.evaluate(test_gen , batch_size=128)\n",
    "print(\"test loss, test acc:\", results)"
   ]
  },
  {
   "cell_type": "code",
   "execution_count": null,
   "metadata": {},
   "outputs": [],
   "source": []
  },
  {
   "cell_type": "code",
   "execution_count": 37,
   "metadata": {},
   "outputs": [
    {
     "data": {
      "text/plain": [
       "<Experiment: artifact_location='./mlruns/1', experiment_id='1', lifecycle_stage='active', name='nyc-taxi-experiment', tags={}>"
      ]
     },
     "execution_count": 37,
     "metadata": {},
     "output_type": "execute_result"
    }
   ],
   "source": [
    "import mlflow\n",
    "\n",
    "\n",
    "mlflow.set_tracking_uri(\"sqlite:///mlflow.db\")\n",
    "mlflow.set_experiment(\"nyc-taxi-experiment\")"
   ]
  },
  {
   "cell_type": "code",
   "execution_count": 38,
   "metadata": {},
   "outputs": [],
   "source": [
    "from hyperopt import fmin, tpe, hp, STATUS_OK, Trials\n",
    "from hyperopt.pyll import scope"
   ]
  },
  {
   "cell_type": "code",
   "execution_count": 39,
   "metadata": {},
   "outputs": [],
   "source": [
    "def objective(params):\n",
    "    with mlflow.start_run():  \n",
    "        mlflow.set_tag(\"developer\",\"tharhtet\")\n",
    "        mlflow.log_params(params)\n",
    "\n",
    "\n",
    "        model = create_model(input_size= model_input,\n",
    "                kernel_size = params[\"kernel_size\"],\n",
    "                num_filter=params[\"filter_size\"],\n",
    "                num_conv_layer = params[\"conv_layers\"],\n",
    "                num_output=3)\n",
    "        \n",
    "        model.compile(loss='categorical_crossentropy',\n",
    "                    optimizer=Adam(lr=params[\"learning_rate\"]),\n",
    "                    metrics=['accuracy'])\n",
    "        results = model.evaluate(test_gen , batch_size=15)\n",
    "        mlflow.log_metric(\"val_loss\", results[0])\n",
    "        mlflow.log_metric(\"val_acc\", results[1])\n",
    "    return {'loss' :results[0],'status':STATUS_OK }\n",
    "\n",
    "        "
   ]
  },
  {
   "cell_type": "code",
   "execution_count": 40,
   "metadata": {},
   "outputs": [],
   "source": [
    "conv_layers = 2\n",
    "filters_size = [16,32,64,128]\n",
    "kernel_sizes= [(3,3),(5,5),(7,7)]\n",
    "learning_rate = 0.001\n",
    "epochs =3\n",
    "\n",
    "\n",
    "\n",
    "search_space = {\n",
    "    \"conv_layers\" : scope.int(hp.quniform(\"conv_layers\",2,10,1)),\n",
    "    \"filter_size\" : scope.int(hp.choice(\"filter_size\",filters_size)),\n",
    "    \"kernel_size\" : hp.choice(\"kernel_size\",kernel_sizes),\n",
    "    \"learning_rate\" : hp.loguniform(\"learning_rate\",-3,0),\n",
    "    \"epochs\" : scope.int(hp.quniform(\"epochs\",2,10,1))\n",
    "    \n",
    "\n",
    "}"
   ]
  },
  {
   "cell_type": "code",
   "execution_count": 41,
   "metadata": {},
   "outputs": [
    {
     "name": "stdout",
     "output_type": "stream",
     "text": [
      "{'conv_layers': 6, 'epochs': 2, 'filter_size': 64, 'kernel_size': (5, 5), 'learning_rate': 0.30267259332058205}\n",
      "  0%|          | 0/2 [00:00<?, ?trial/s, best loss=?]"
     ]
    },
    {
     "name": "stderr",
     "output_type": "stream",
     "text": [
      "c:\\Users\\tharh\\anaconda3\\envs\\tharhtet\\lib\\site-packages\\keras\\optimizers\\optimizer_v2\\adam.py:110: UserWarning: The `lr` argument is deprecated, use `learning_rate` instead.\n",
      "  super(Adam, self).__init__(name, **kwargs)\n",
      "\n"
     ]
    },
    {
     "name": "stdout",
     "output_type": "stream",
     "text": [
      " 1/11 [=>............................] - ETA: 22s - loss: 1.0989 - accuracy: 0.3438\n",
      " 2/11 [====>.........................] - ETA: 1s - loss: 1.0989 - accuracy: 0.2969 \n",
      " 3/11 [=======>......................] - ETA: 1s - loss: 1.0989 - accuracy: 0.3021\n",
      " 4/11 [=========>....................] - ETA: 0s - loss: 1.0988 - accuracy: 0.3281\n",
      " 5/11 [============>.................] - ETA: 0s - loss: 1.0988 - accuracy: 0.3375\n",
      " 6/11 [===============>..............] - ETA: 0s - loss: 1.0987 - accuracy: 0.3333\n",
      " 7/11 [==================>...........] - ETA: 0s - loss: 1.0987 - accuracy: 0.3259\n",
      " 8/11 [====================>.........] - ETA: 0s - loss: 1.0986 - accuracy: 0.3359\n",
      " 9/11 [=======================>......] - ETA: 0s - loss: 1.0986 - accuracy: 0.3368\n",
      "10/11 [==========================>...] - ETA: 0s - loss: 1.0986 - accuracy: 0.3531\n",
      "11/11 [==============================] - ETA: 0s - loss: 1.0986 - accuracy: 0.3455\n",
      "11/11 [==============================] - 5s 234ms/step - loss: 1.0986 - accuracy: 0.3455\n",
      "\n",
      "{'conv_layers': 4, 'epochs': 4, 'filter_size': 64, 'kernel_size': (7, 7), 'learning_rate': 0.1316097171131269}\n",
      " 1/11 [=>............................] - ETA: 19s - loss: 1.0992 - accuracy: 0.2812\n",
      " 2/11 [====>.........................] - ETA: 0s - loss: 1.0986 - accuracy: 0.3281 \n",
      " 3/11 [=======>......................] - ETA: 0s - loss: 1.0984 - accuracy: 0.3542\n",
      " 4/11 [=========>....................] - ETA: 0s - loss: 1.0982 - accuracy: 0.3828\n",
      " 5/11 [============>.................] - ETA: 0s - loss: 1.0983 - accuracy: 0.3688\n",
      " 6/11 [===============>..............] - ETA: 0s - loss: 1.0984 - accuracy: 0.3542\n",
      " 7/11 [==================>...........] - ETA: 0s - loss: 1.0985 - accuracy: 0.3393\n",
      " 8/11 [====================>.........] - ETA: 0s - loss: 1.0986 - accuracy: 0.3242\n",
      " 9/11 [=======================>......] - ETA: 0s - loss: 1.0986 - accuracy: 0.3264\n",
      "10/11 [==========================>...] - ETA: 0s - loss: 1.0986 - accuracy: 0.3344\n",
      "11/11 [==============================] - ETA: 0s - loss: 1.0986 - accuracy: 0.3333\n",
      "11/11 [==============================] - 4s 186ms/step - loss: 1.0986 - accuracy: 0.3333\n",
      "\n",
      "100%|██████████| 2/2 [00:10<00:00,  5.29s/trial, best loss: 1.09856116771698]  \n"
     ]
    }
   ],
   "source": [
    "best_result = fmin(\n",
    "    fn=objective,\n",
    "    space=search_space,\n",
    "    algo=tpe.suggest,\n",
    "    max_evals=10,\n",
    "    trials=Trials()\n",
    ")"
   ]
  },
  {
   "cell_type": "code",
   "execution_count": null,
   "metadata": {},
   "outputs": [],
   "source": []
  }
 ],
 "metadata": {
  "kernelspec": {
   "display_name": "Python 3.9.12 ('tharhtet')",
   "language": "python",
   "name": "python3"
  },
  "language_info": {
   "codemirror_mode": {
    "name": "ipython",
    "version": 3
   },
   "file_extension": ".py",
   "mimetype": "text/x-python",
   "name": "python",
   "nbconvert_exporter": "python",
   "pygments_lexer": "ipython3",
   "version": "3.9.12"
  },
  "orig_nbformat": 4,
  "vscode": {
   "interpreter": {
    "hash": "b46ff7e5b8b7911cfa9955e23e477c53e63d207f4b9ab3253a6a5ac7336ecbe5"
   }
  }
 },
 "nbformat": 4,
 "nbformat_minor": 2
}
